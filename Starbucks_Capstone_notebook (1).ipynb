{
 "cells": [
  {
   "cell_type": "markdown",
   "metadata": {},
   "source": [
    "# Starbucks Capstone Challenge\n",
    "\n",
    "### Introduction\n",
    "\n",
    "This data set contains simulated data that mimics customer behavior on the Starbucks rewards mobile app. Once every few days, Starbucks sends out an offer to users of the mobile app. An offer can be merely an advertisement for a drink or an actual offer such as a discount or BOGO (buy one get one free). Some users might not receive any offer during certain weeks. \n",
    "\n",
    "Not all users receive the same offer, and that is the challenge to solve with this data set.\n",
    "\n",
    "Your task is to combine transaction, demographic and offer data to determine which demographic groups respond best to which offer type. This data set is a simplified version of the real Starbucks app because the underlying simulator only has one product whereas Starbucks actually sells dozens of products.\n",
    "\n",
    "Every offer has a validity period before the offer expires. As an example, a BOGO offer might be valid for only 5 days. You'll see in the data set that informational offers have a validity period even though these ads are merely providing information about a product; for example, if an informational offer has 7 days of validity, you can assume the customer is feeling the influence of the offer for 7 days after receiving the advertisement.\n",
    "\n",
    "You'll be given transactional data showing user purchases made on the app including the timestamp of purchase and the amount of money spent on a purchase. This transactional data also has a record for each offer that a user receives as well as a record for when a user actually views the offer. There are also records for when a user completes an offer. \n",
    "\n",
    "Keep in mind as well that someone using the app might make a purchase through the app without having received an offer or seen an offer.\n",
    "\n",
    "### Example\n",
    "\n",
    "To give an example, a user could receive a discount offer buy 10 dollars get 2 off on Monday. The offer is valid for 10 days from receipt. If the customer accumulates at least 10 dollars in purchases during the validity period, the customer completes the offer.\n",
    "\n",
    "However, there are a few things to watch out for in this data set. Customers do not opt into the offers that they receive; in other words, a user can receive an offer, never actually view the offer, and still complete the offer. For example, a user might receive the \"buy 10 dollars get 2 dollars off offer\", but the user never opens the offer during the 10 day validity period. The customer spends 15 dollars during those ten days. There will be an offer completion record in the data set; however, the customer was not influenced by the offer because the customer never viewed the offer.\n",
    "\n",
    "### Cleaning\n",
    "\n",
    "This makes data cleaning especially important and tricky.\n",
    "\n",
    "You'll also want to take into account that some demographic groups will make purchases even if they don't receive an offer. From a business perspective, if a customer is going to make a 10 dollar purchase without an offer anyway, you wouldn't want to send a buy 10 dollars get 2 dollars off offer. You'll want to try to assess what a certain demographic group will buy when not receiving any offers.\n",
    "\n",
    "### Final Advice\n",
    "\n",
    "Because this is a capstone project, you are free to analyze the data any way you see fit. For example, you could build a machine learning model that predicts how much someone will spend based on demographics and offer type. Or you could build a model that predicts whether or not someone will respond to an offer. Or, you don't need to build a machine learning model at all. You could develop a set of heuristics that determine what offer you should send to each customer (i.e., 75 percent of women customers who were 35 years old responded to offer A vs 40 percent from the same demographic to offer B, so send offer A)."
   ]
  },
  {
   "cell_type": "markdown",
   "metadata": {},
   "source": [
    "# Data Sets\n",
    "\n",
    "The data is contained in three files:\n",
    "\n",
    "* portfolio.json - containing offer ids and meta data about each offer (duration, type, etc.)\n",
    "* profile.json - demographic data for each customer\n",
    "* transcript.json - records for transactions, offers received, offers viewed, and offers completed\n",
    "\n",
    "Here is the schema and explanation of each variable in the files:\n",
    "\n",
    "**portfolio.json**\n",
    "* id (string) - offer id\n",
    "* offer_type (string) - type of offer ie BOGO, discount, informational\n",
    "* difficulty (int) - minimum required spend to complete an offer\n",
    "* reward (int) - reward given for completing an offer\n",
    "* duration (int) - time for offer to be open, in days\n",
    "* channels (list of strings)\n",
    "\n",
    "**profile.json**\n",
    "* age (int) - age of the customer \n",
    "* became_member_on (int) - date when customer created an app account\n",
    "* gender (str) - gender of the customer (note some entries contain 'O' for other rather than M or F)\n",
    "* id (str) - customer id\n",
    "* income (float) - customer's income\n",
    "\n",
    "**transcript.json**\n",
    "* event (str) - record description (ie transaction, offer received, offer viewed, etc.)\n",
    "* person (str) - customer id\n",
    "* time (int) - time in hours since start of test. The data begins at time t=0\n",
    "* value - (dict of strings) - either an offer id or transaction amount depending on the record\n",
    "\n",
    "**Note:** If you are using the workspace, you will need to go to the terminal and run the command `conda update pandas` before reading in the files. This is because the version of pandas in the workspace cannot read in the transcript.json file correctly, but the newest version of pandas can. You can access the termnal from the orange icon in the top left of this notebook.  \n",
    "\n",
    "You can see how to access the terminal and how the install works using the two images below.  First you need to access the terminal:\n",
    "\n",
    "<img src=\"pic1.png\"/>\n",
    "\n",
    "Then you will want to run the above command:\n",
    "\n",
    "<img src=\"pic2.png\"/>\n",
    "\n",
    "Finally, when you enter back into the notebook (use the jupyter icon again), you should be able to run the below cell without any errors."
   ]
  },
  {
   "cell_type": "code",
   "execution_count": 1,
   "metadata": {},
   "outputs": [],
   "source": [
    "import pandas as pd\n",
    "import numpy as np\n",
    "import math\n",
    "import json\n",
    "%matplotlib inline\n",
    "\n",
    "# read in the json files\n",
    "portfolio = pd.read_json('data/portfolio.json', orient='records', lines=True)\n",
    "profile = pd.read_json('data/profile.json', orient='records', lines=True)\n",
    "transcript = pd.read_json('data/transcript.json', orient='records', lines=True)"
   ]
  },
  {
   "cell_type": "code",
   "execution_count": 2,
   "metadata": {},
   "outputs": [],
   "source": [
    "import matplotlib.pyplot as plt\n",
    "import seaborn as sns"
   ]
  },
  {
   "cell_type": "code",
   "execution_count": 3,
   "metadata": {},
   "outputs": [
    {
     "name": "stderr",
     "output_type": "stream",
     "text": [
      "Using TensorFlow backend.\n"
     ]
    }
   ],
   "source": [
    "from sklearn.preprocessing import StandardScaler\n",
    "from sklearn.model_selection import train_test_split\n",
    "import tensorflow as tf\n",
    "import keras"
   ]
  },
  {
   "cell_type": "code",
   "execution_count": 4,
   "metadata": {},
   "outputs": [
    {
     "data": {
      "text/html": [
       "<div>\n",
       "<style scoped>\n",
       "    .dataframe tbody tr th:only-of-type {\n",
       "        vertical-align: middle;\n",
       "    }\n",
       "\n",
       "    .dataframe tbody tr th {\n",
       "        vertical-align: top;\n",
       "    }\n",
       "\n",
       "    .dataframe thead th {\n",
       "        text-align: right;\n",
       "    }\n",
       "</style>\n",
       "<table border=\"1\" class=\"dataframe\">\n",
       "  <thead>\n",
       "    <tr style=\"text-align: right;\">\n",
       "      <th></th>\n",
       "      <th>channels</th>\n",
       "      <th>difficulty</th>\n",
       "      <th>duration</th>\n",
       "      <th>id</th>\n",
       "      <th>offer_type</th>\n",
       "      <th>reward</th>\n",
       "    </tr>\n",
       "  </thead>\n",
       "  <tbody>\n",
       "    <tr>\n",
       "      <th>0</th>\n",
       "      <td>[email, mobile, social]</td>\n",
       "      <td>10</td>\n",
       "      <td>7</td>\n",
       "      <td>ae264e3637204a6fb9bb56bc8210ddfd</td>\n",
       "      <td>bogo</td>\n",
       "      <td>10</td>\n",
       "    </tr>\n",
       "    <tr>\n",
       "      <th>1</th>\n",
       "      <td>[web, email, mobile, social]</td>\n",
       "      <td>10</td>\n",
       "      <td>5</td>\n",
       "      <td>4d5c57ea9a6940dd891ad53e9dbe8da0</td>\n",
       "      <td>bogo</td>\n",
       "      <td>10</td>\n",
       "    </tr>\n",
       "    <tr>\n",
       "      <th>2</th>\n",
       "      <td>[web, email, mobile]</td>\n",
       "      <td>0</td>\n",
       "      <td>4</td>\n",
       "      <td>3f207df678b143eea3cee63160fa8bed</td>\n",
       "      <td>informational</td>\n",
       "      <td>0</td>\n",
       "    </tr>\n",
       "    <tr>\n",
       "      <th>3</th>\n",
       "      <td>[web, email, mobile]</td>\n",
       "      <td>5</td>\n",
       "      <td>7</td>\n",
       "      <td>9b98b8c7a33c4b65b9aebfe6a799e6d9</td>\n",
       "      <td>bogo</td>\n",
       "      <td>5</td>\n",
       "    </tr>\n",
       "    <tr>\n",
       "      <th>4</th>\n",
       "      <td>[web, email]</td>\n",
       "      <td>20</td>\n",
       "      <td>10</td>\n",
       "      <td>0b1e1539f2cc45b7b9fa7c272da2e1d7</td>\n",
       "      <td>discount</td>\n",
       "      <td>5</td>\n",
       "    </tr>\n",
       "  </tbody>\n",
       "</table>\n",
       "</div>"
      ],
      "text/plain": [
       "                       channels  difficulty  duration  \\\n",
       "0       [email, mobile, social]          10         7   \n",
       "1  [web, email, mobile, social]          10         5   \n",
       "2          [web, email, mobile]           0         4   \n",
       "3          [web, email, mobile]           5         7   \n",
       "4                  [web, email]          20        10   \n",
       "\n",
       "                                 id     offer_type  reward  \n",
       "0  ae264e3637204a6fb9bb56bc8210ddfd           bogo      10  \n",
       "1  4d5c57ea9a6940dd891ad53e9dbe8da0           bogo      10  \n",
       "2  3f207df678b143eea3cee63160fa8bed  informational       0  \n",
       "3  9b98b8c7a33c4b65b9aebfe6a799e6d9           bogo       5  \n",
       "4  0b1e1539f2cc45b7b9fa7c272da2e1d7       discount       5  "
      ]
     },
     "execution_count": 4,
     "metadata": {},
     "output_type": "execute_result"
    }
   ],
   "source": [
    "portfolio.head()"
   ]
  },
  {
   "cell_type": "code",
   "execution_count": 5,
   "metadata": {},
   "outputs": [],
   "source": [
    "portfolio1 = portfolio.copy()"
   ]
  },
  {
   "cell_type": "code",
   "execution_count": 6,
   "metadata": {},
   "outputs": [],
   "source": [
    "dummy = pd.get_dummies(portfolio1.channels.apply(pd.Series).stack()).sum(level=0)\n",
    "portfolio1 = pd.concat([portfolio1, dummy], axis=1)\n",
    "portfolio1 = portfolio1.drop(columns='channels')"
   ]
  },
  {
   "cell_type": "code",
   "execution_count": 7,
   "metadata": {},
   "outputs": [],
   "source": [
    "portfolio1 = portfolio1.rename(columns={'id':'offer_id'})"
   ]
  },
  {
   "cell_type": "code",
   "execution_count": 8,
   "metadata": {},
   "outputs": [],
   "source": [
    "## Set offer_id as index\n",
    "portfolio1.set_index(keys='offer_id', verify_integrity=True, inplace=True)"
   ]
  },
  {
   "cell_type": "code",
   "execution_count": 9,
   "metadata": {},
   "outputs": [],
   "source": [
    "## Filter out email column, since it is not an informative feature\n",
    "portfolio1.drop(columns='email', inplace=True)"
   ]
  },
  {
   "cell_type": "code",
   "execution_count": 10,
   "metadata": {},
   "outputs": [
    {
     "data": {
      "text/html": [
       "<div>\n",
       "<style scoped>\n",
       "    .dataframe tbody tr th:only-of-type {\n",
       "        vertical-align: middle;\n",
       "    }\n",
       "\n",
       "    .dataframe tbody tr th {\n",
       "        vertical-align: top;\n",
       "    }\n",
       "\n",
       "    .dataframe thead th {\n",
       "        text-align: right;\n",
       "    }\n",
       "</style>\n",
       "<table border=\"1\" class=\"dataframe\">\n",
       "  <thead>\n",
       "    <tr style=\"text-align: right;\">\n",
       "      <th></th>\n",
       "      <th>difficulty</th>\n",
       "      <th>duration</th>\n",
       "      <th>offer_type</th>\n",
       "      <th>reward</th>\n",
       "      <th>mobile</th>\n",
       "      <th>social</th>\n",
       "      <th>web</th>\n",
       "    </tr>\n",
       "    <tr>\n",
       "      <th>offer_id</th>\n",
       "      <th></th>\n",
       "      <th></th>\n",
       "      <th></th>\n",
       "      <th></th>\n",
       "      <th></th>\n",
       "      <th></th>\n",
       "      <th></th>\n",
       "    </tr>\n",
       "  </thead>\n",
       "  <tbody>\n",
       "    <tr>\n",
       "      <th>ae264e3637204a6fb9bb56bc8210ddfd</th>\n",
       "      <td>10</td>\n",
       "      <td>7</td>\n",
       "      <td>bogo</td>\n",
       "      <td>10</td>\n",
       "      <td>1</td>\n",
       "      <td>1</td>\n",
       "      <td>0</td>\n",
       "    </tr>\n",
       "    <tr>\n",
       "      <th>4d5c57ea9a6940dd891ad53e9dbe8da0</th>\n",
       "      <td>10</td>\n",
       "      <td>5</td>\n",
       "      <td>bogo</td>\n",
       "      <td>10</td>\n",
       "      <td>1</td>\n",
       "      <td>1</td>\n",
       "      <td>1</td>\n",
       "    </tr>\n",
       "    <tr>\n",
       "      <th>3f207df678b143eea3cee63160fa8bed</th>\n",
       "      <td>0</td>\n",
       "      <td>4</td>\n",
       "      <td>informational</td>\n",
       "      <td>0</td>\n",
       "      <td>1</td>\n",
       "      <td>0</td>\n",
       "      <td>1</td>\n",
       "    </tr>\n",
       "    <tr>\n",
       "      <th>9b98b8c7a33c4b65b9aebfe6a799e6d9</th>\n",
       "      <td>5</td>\n",
       "      <td>7</td>\n",
       "      <td>bogo</td>\n",
       "      <td>5</td>\n",
       "      <td>1</td>\n",
       "      <td>0</td>\n",
       "      <td>1</td>\n",
       "    </tr>\n",
       "    <tr>\n",
       "      <th>0b1e1539f2cc45b7b9fa7c272da2e1d7</th>\n",
       "      <td>20</td>\n",
       "      <td>10</td>\n",
       "      <td>discount</td>\n",
       "      <td>5</td>\n",
       "      <td>0</td>\n",
       "      <td>0</td>\n",
       "      <td>1</td>\n",
       "    </tr>\n",
       "    <tr>\n",
       "      <th>2298d6c36e964ae4a3e7e9706d1fb8c2</th>\n",
       "      <td>7</td>\n",
       "      <td>7</td>\n",
       "      <td>discount</td>\n",
       "      <td>3</td>\n",
       "      <td>1</td>\n",
       "      <td>1</td>\n",
       "      <td>1</td>\n",
       "    </tr>\n",
       "    <tr>\n",
       "      <th>fafdcd668e3743c1bb461111dcafc2a4</th>\n",
       "      <td>10</td>\n",
       "      <td>10</td>\n",
       "      <td>discount</td>\n",
       "      <td>2</td>\n",
       "      <td>1</td>\n",
       "      <td>1</td>\n",
       "      <td>1</td>\n",
       "    </tr>\n",
       "    <tr>\n",
       "      <th>5a8bc65990b245e5a138643cd4eb9837</th>\n",
       "      <td>0</td>\n",
       "      <td>3</td>\n",
       "      <td>informational</td>\n",
       "      <td>0</td>\n",
       "      <td>1</td>\n",
       "      <td>1</td>\n",
       "      <td>0</td>\n",
       "    </tr>\n",
       "    <tr>\n",
       "      <th>f19421c1d4aa40978ebb69ca19b0e20d</th>\n",
       "      <td>5</td>\n",
       "      <td>5</td>\n",
       "      <td>bogo</td>\n",
       "      <td>5</td>\n",
       "      <td>1</td>\n",
       "      <td>1</td>\n",
       "      <td>1</td>\n",
       "    </tr>\n",
       "    <tr>\n",
       "      <th>2906b810c7d4411798c6938adc9daaa5</th>\n",
       "      <td>10</td>\n",
       "      <td>7</td>\n",
       "      <td>discount</td>\n",
       "      <td>2</td>\n",
       "      <td>1</td>\n",
       "      <td>0</td>\n",
       "      <td>1</td>\n",
       "    </tr>\n",
       "  </tbody>\n",
       "</table>\n",
       "</div>"
      ],
      "text/plain": [
       "                                  difficulty  duration     offer_type  reward  \\\n",
       "offer_id                                                                        \n",
       "ae264e3637204a6fb9bb56bc8210ddfd          10         7           bogo      10   \n",
       "4d5c57ea9a6940dd891ad53e9dbe8da0          10         5           bogo      10   \n",
       "3f207df678b143eea3cee63160fa8bed           0         4  informational       0   \n",
       "9b98b8c7a33c4b65b9aebfe6a799e6d9           5         7           bogo       5   \n",
       "0b1e1539f2cc45b7b9fa7c272da2e1d7          20        10       discount       5   \n",
       "2298d6c36e964ae4a3e7e9706d1fb8c2           7         7       discount       3   \n",
       "fafdcd668e3743c1bb461111dcafc2a4          10        10       discount       2   \n",
       "5a8bc65990b245e5a138643cd4eb9837           0         3  informational       0   \n",
       "f19421c1d4aa40978ebb69ca19b0e20d           5         5           bogo       5   \n",
       "2906b810c7d4411798c6938adc9daaa5          10         7       discount       2   \n",
       "\n",
       "                                  mobile  social  web  \n",
       "offer_id                                               \n",
       "ae264e3637204a6fb9bb56bc8210ddfd       1       1    0  \n",
       "4d5c57ea9a6940dd891ad53e9dbe8da0       1       1    1  \n",
       "3f207df678b143eea3cee63160fa8bed       1       0    1  \n",
       "9b98b8c7a33c4b65b9aebfe6a799e6d9       1       0    1  \n",
       "0b1e1539f2cc45b7b9fa7c272da2e1d7       0       0    1  \n",
       "2298d6c36e964ae4a3e7e9706d1fb8c2       1       1    1  \n",
       "fafdcd668e3743c1bb461111dcafc2a4       1       1    1  \n",
       "5a8bc65990b245e5a138643cd4eb9837       1       1    0  \n",
       "f19421c1d4aa40978ebb69ca19b0e20d       1       1    1  \n",
       "2906b810c7d4411798c6938adc9daaa5       1       0    1  "
      ]
     },
     "metadata": {},
     "output_type": "display_data"
    }
   ],
   "source": [
    "# print the result\n",
    "display(portfolio1)"
   ]
  },
  {
   "cell_type": "code",
   "execution_count": 11,
   "metadata": {},
   "outputs": [
    {
     "data": {
      "text/html": [
       "<div>\n",
       "<style scoped>\n",
       "    .dataframe tbody tr th:only-of-type {\n",
       "        vertical-align: middle;\n",
       "    }\n",
       "\n",
       "    .dataframe tbody tr th {\n",
       "        vertical-align: top;\n",
       "    }\n",
       "\n",
       "    .dataframe thead th {\n",
       "        text-align: right;\n",
       "    }\n",
       "</style>\n",
       "<table border=\"1\" class=\"dataframe\">\n",
       "  <thead>\n",
       "    <tr style=\"text-align: right;\">\n",
       "      <th></th>\n",
       "      <th>age</th>\n",
       "      <th>became_member_on</th>\n",
       "      <th>gender</th>\n",
       "      <th>id</th>\n",
       "      <th>income</th>\n",
       "    </tr>\n",
       "  </thead>\n",
       "  <tbody>\n",
       "    <tr>\n",
       "      <th>0</th>\n",
       "      <td>118</td>\n",
       "      <td>20170212</td>\n",
       "      <td>None</td>\n",
       "      <td>68be06ca386d4c31939f3a4f0e3dd783</td>\n",
       "      <td>NaN</td>\n",
       "    </tr>\n",
       "    <tr>\n",
       "      <th>1</th>\n",
       "      <td>55</td>\n",
       "      <td>20170715</td>\n",
       "      <td>F</td>\n",
       "      <td>0610b486422d4921ae7d2bf64640c50b</td>\n",
       "      <td>112000.0</td>\n",
       "    </tr>\n",
       "    <tr>\n",
       "      <th>2</th>\n",
       "      <td>118</td>\n",
       "      <td>20180712</td>\n",
       "      <td>None</td>\n",
       "      <td>38fe809add3b4fcf9315a9694bb96ff5</td>\n",
       "      <td>NaN</td>\n",
       "    </tr>\n",
       "    <tr>\n",
       "      <th>3</th>\n",
       "      <td>75</td>\n",
       "      <td>20170509</td>\n",
       "      <td>F</td>\n",
       "      <td>78afa995795e4d85b5d9ceeca43f5fef</td>\n",
       "      <td>100000.0</td>\n",
       "    </tr>\n",
       "    <tr>\n",
       "      <th>4</th>\n",
       "      <td>118</td>\n",
       "      <td>20170804</td>\n",
       "      <td>None</td>\n",
       "      <td>a03223e636434f42ac4c3df47e8bac43</td>\n",
       "      <td>NaN</td>\n",
       "    </tr>\n",
       "  </tbody>\n",
       "</table>\n",
       "</div>"
      ],
      "text/plain": [
       "   age  became_member_on gender                                id    income\n",
       "0  118          20170212   None  68be06ca386d4c31939f3a4f0e3dd783       NaN\n",
       "1   55          20170715      F  0610b486422d4921ae7d2bf64640c50b  112000.0\n",
       "2  118          20180712   None  38fe809add3b4fcf9315a9694bb96ff5       NaN\n",
       "3   75          20170509      F  78afa995795e4d85b5d9ceeca43f5fef  100000.0\n",
       "4  118          20170804   None  a03223e636434f42ac4c3df47e8bac43       NaN"
      ]
     },
     "execution_count": 11,
     "metadata": {},
     "output_type": "execute_result"
    }
   ],
   "source": [
    "profile.head()"
   ]
  },
  {
   "cell_type": "code",
   "execution_count": 12,
   "metadata": {},
   "outputs": [],
   "source": [
    "profile1 = profile.copy()"
   ]
  },
  {
   "cell_type": "code",
   "execution_count": 13,
   "metadata": {},
   "outputs": [],
   "source": [
    "profile1 = profile1.rename(columns={'id':'customer_id'})"
   ]
  },
  {
   "cell_type": "code",
   "execution_count": 14,
   "metadata": {},
   "outputs": [],
   "source": [
    "## Set offer_id as index\n",
    "profile1.set_index(keys='customer_id', verify_integrity=True, inplace=True)"
   ]
  },
  {
   "cell_type": "code",
   "execution_count": 15,
   "metadata": {
    "scrolled": true
   },
   "outputs": [
    {
     "data": {
      "text/html": [
       "<div>\n",
       "<style scoped>\n",
       "    .dataframe tbody tr th:only-of-type {\n",
       "        vertical-align: middle;\n",
       "    }\n",
       "\n",
       "    .dataframe tbody tr th {\n",
       "        vertical-align: top;\n",
       "    }\n",
       "\n",
       "    .dataframe thead th {\n",
       "        text-align: right;\n",
       "    }\n",
       "</style>\n",
       "<table border=\"1\" class=\"dataframe\">\n",
       "  <thead>\n",
       "    <tr style=\"text-align: right;\">\n",
       "      <th></th>\n",
       "      <th>age</th>\n",
       "      <th>became_member_on</th>\n",
       "      <th>income</th>\n",
       "    </tr>\n",
       "  </thead>\n",
       "  <tbody>\n",
       "    <tr>\n",
       "      <th>count</th>\n",
       "      <td>17000.000000</td>\n",
       "      <td>1.700000e+04</td>\n",
       "      <td>14825.000000</td>\n",
       "    </tr>\n",
       "    <tr>\n",
       "      <th>mean</th>\n",
       "      <td>62.531412</td>\n",
       "      <td>2.016703e+07</td>\n",
       "      <td>65404.991568</td>\n",
       "    </tr>\n",
       "    <tr>\n",
       "      <th>std</th>\n",
       "      <td>26.738580</td>\n",
       "      <td>1.167750e+04</td>\n",
       "      <td>21598.299410</td>\n",
       "    </tr>\n",
       "    <tr>\n",
       "      <th>min</th>\n",
       "      <td>18.000000</td>\n",
       "      <td>2.013073e+07</td>\n",
       "      <td>30000.000000</td>\n",
       "    </tr>\n",
       "    <tr>\n",
       "      <th>25%</th>\n",
       "      <td>45.000000</td>\n",
       "      <td>2.016053e+07</td>\n",
       "      <td>49000.000000</td>\n",
       "    </tr>\n",
       "    <tr>\n",
       "      <th>50%</th>\n",
       "      <td>58.000000</td>\n",
       "      <td>2.017080e+07</td>\n",
       "      <td>64000.000000</td>\n",
       "    </tr>\n",
       "    <tr>\n",
       "      <th>75%</th>\n",
       "      <td>73.000000</td>\n",
       "      <td>2.017123e+07</td>\n",
       "      <td>80000.000000</td>\n",
       "    </tr>\n",
       "    <tr>\n",
       "      <th>max</th>\n",
       "      <td>118.000000</td>\n",
       "      <td>2.018073e+07</td>\n",
       "      <td>120000.000000</td>\n",
       "    </tr>\n",
       "  </tbody>\n",
       "</table>\n",
       "</div>"
      ],
      "text/plain": [
       "                age  became_member_on         income\n",
       "count  17000.000000      1.700000e+04   14825.000000\n",
       "mean      62.531412      2.016703e+07   65404.991568\n",
       "std       26.738580      1.167750e+04   21598.299410\n",
       "min       18.000000      2.013073e+07   30000.000000\n",
       "25%       45.000000      2.016053e+07   49000.000000\n",
       "50%       58.000000      2.017080e+07   64000.000000\n",
       "75%       73.000000      2.017123e+07   80000.000000\n",
       "max      118.000000      2.018073e+07  120000.000000"
      ]
     },
     "execution_count": 15,
     "metadata": {},
     "output_type": "execute_result"
    }
   ],
   "source": [
    "profile1.describe()"
   ]
  },
  {
   "cell_type": "code",
   "execution_count": 16,
   "metadata": {
    "scrolled": false
   },
   "outputs": [],
   "source": [
    "profile1 = profile1[profile1.age != 118]"
   ]
  },
  {
   "cell_type": "code",
   "execution_count": 17,
   "metadata": {},
   "outputs": [
    {
     "data": {
      "text/html": [
       "<div>\n",
       "<style scoped>\n",
       "    .dataframe tbody tr th:only-of-type {\n",
       "        vertical-align: middle;\n",
       "    }\n",
       "\n",
       "    .dataframe tbody tr th {\n",
       "        vertical-align: top;\n",
       "    }\n",
       "\n",
       "    .dataframe thead th {\n",
       "        text-align: right;\n",
       "    }\n",
       "</style>\n",
       "<table border=\"1\" class=\"dataframe\">\n",
       "  <thead>\n",
       "    <tr style=\"text-align: right;\">\n",
       "      <th></th>\n",
       "      <th>age</th>\n",
       "      <th>became_member_on</th>\n",
       "      <th>gender</th>\n",
       "      <th>income</th>\n",
       "    </tr>\n",
       "    <tr>\n",
       "      <th>customer_id</th>\n",
       "      <th></th>\n",
       "      <th></th>\n",
       "      <th></th>\n",
       "      <th></th>\n",
       "    </tr>\n",
       "  </thead>\n",
       "  <tbody>\n",
       "    <tr>\n",
       "      <th>0610b486422d4921ae7d2bf64640c50b</th>\n",
       "      <td>55</td>\n",
       "      <td>20170715</td>\n",
       "      <td>F</td>\n",
       "      <td>112000.0</td>\n",
       "    </tr>\n",
       "    <tr>\n",
       "      <th>78afa995795e4d85b5d9ceeca43f5fef</th>\n",
       "      <td>75</td>\n",
       "      <td>20170509</td>\n",
       "      <td>F</td>\n",
       "      <td>100000.0</td>\n",
       "    </tr>\n",
       "    <tr>\n",
       "      <th>e2127556f4f64592b11af22de27a7932</th>\n",
       "      <td>68</td>\n",
       "      <td>20180426</td>\n",
       "      <td>M</td>\n",
       "      <td>70000.0</td>\n",
       "    </tr>\n",
       "    <tr>\n",
       "      <th>389bc3fa690240e798340f5a15918d5c</th>\n",
       "      <td>65</td>\n",
       "      <td>20180209</td>\n",
       "      <td>M</td>\n",
       "      <td>53000.0</td>\n",
       "    </tr>\n",
       "    <tr>\n",
       "      <th>2eeac8d8feae4a8cad5a6af0499a211d</th>\n",
       "      <td>58</td>\n",
       "      <td>20171111</td>\n",
       "      <td>M</td>\n",
       "      <td>51000.0</td>\n",
       "    </tr>\n",
       "  </tbody>\n",
       "</table>\n",
       "</div>"
      ],
      "text/plain": [
       "                                  age  became_member_on gender    income\n",
       "customer_id                                                             \n",
       "0610b486422d4921ae7d2bf64640c50b   55          20170715      F  112000.0\n",
       "78afa995795e4d85b5d9ceeca43f5fef   75          20170509      F  100000.0\n",
       "e2127556f4f64592b11af22de27a7932   68          20180426      M   70000.0\n",
       "389bc3fa690240e798340f5a15918d5c   65          20180209      M   53000.0\n",
       "2eeac8d8feae4a8cad5a6af0499a211d   58          20171111      M   51000.0"
      ]
     },
     "metadata": {},
     "output_type": "display_data"
    }
   ],
   "source": [
    "# print the result\n",
    "display(profile1.head())"
   ]
  },
  {
   "cell_type": "code",
   "execution_count": 18,
   "metadata": {},
   "outputs": [
    {
     "data": {
      "text/html": [
       "<div>\n",
       "<style scoped>\n",
       "    .dataframe tbody tr th:only-of-type {\n",
       "        vertical-align: middle;\n",
       "    }\n",
       "\n",
       "    .dataframe tbody tr th {\n",
       "        vertical-align: top;\n",
       "    }\n",
       "\n",
       "    .dataframe thead th {\n",
       "        text-align: right;\n",
       "    }\n",
       "</style>\n",
       "<table border=\"1\" class=\"dataframe\">\n",
       "  <thead>\n",
       "    <tr style=\"text-align: right;\">\n",
       "      <th></th>\n",
       "      <th>age</th>\n",
       "      <th>became_member_on</th>\n",
       "      <th>income</th>\n",
       "    </tr>\n",
       "  </thead>\n",
       "  <tbody>\n",
       "    <tr>\n",
       "      <th>count</th>\n",
       "      <td>14825.000000</td>\n",
       "      <td>1.482500e+04</td>\n",
       "      <td>14825.000000</td>\n",
       "    </tr>\n",
       "    <tr>\n",
       "      <th>mean</th>\n",
       "      <td>54.393524</td>\n",
       "      <td>2.016689e+07</td>\n",
       "      <td>65404.991568</td>\n",
       "    </tr>\n",
       "    <tr>\n",
       "      <th>std</th>\n",
       "      <td>17.383705</td>\n",
       "      <td>1.188565e+04</td>\n",
       "      <td>21598.299410</td>\n",
       "    </tr>\n",
       "    <tr>\n",
       "      <th>min</th>\n",
       "      <td>18.000000</td>\n",
       "      <td>2.013073e+07</td>\n",
       "      <td>30000.000000</td>\n",
       "    </tr>\n",
       "    <tr>\n",
       "      <th>25%</th>\n",
       "      <td>42.000000</td>\n",
       "      <td>2.016052e+07</td>\n",
       "      <td>49000.000000</td>\n",
       "    </tr>\n",
       "    <tr>\n",
       "      <th>50%</th>\n",
       "      <td>55.000000</td>\n",
       "      <td>2.017080e+07</td>\n",
       "      <td>64000.000000</td>\n",
       "    </tr>\n",
       "    <tr>\n",
       "      <th>75%</th>\n",
       "      <td>66.000000</td>\n",
       "      <td>2.017123e+07</td>\n",
       "      <td>80000.000000</td>\n",
       "    </tr>\n",
       "    <tr>\n",
       "      <th>max</th>\n",
       "      <td>101.000000</td>\n",
       "      <td>2.018073e+07</td>\n",
       "      <td>120000.000000</td>\n",
       "    </tr>\n",
       "  </tbody>\n",
       "</table>\n",
       "</div>"
      ],
      "text/plain": [
       "                age  became_member_on         income\n",
       "count  14825.000000      1.482500e+04   14825.000000\n",
       "mean      54.393524      2.016689e+07   65404.991568\n",
       "std       17.383705      1.188565e+04   21598.299410\n",
       "min       18.000000      2.013073e+07   30000.000000\n",
       "25%       42.000000      2.016052e+07   49000.000000\n",
       "50%       55.000000      2.017080e+07   64000.000000\n",
       "75%       66.000000      2.017123e+07   80000.000000\n",
       "max      101.000000      2.018073e+07  120000.000000"
      ]
     },
     "execution_count": 18,
     "metadata": {},
     "output_type": "execute_result"
    }
   ],
   "source": [
    "profile1.describe()"
   ]
  },
  {
   "cell_type": "code",
   "execution_count": 19,
   "metadata": {},
   "outputs": [
    {
     "data": {
      "text/html": [
       "<div>\n",
       "<style scoped>\n",
       "    .dataframe tbody tr th:only-of-type {\n",
       "        vertical-align: middle;\n",
       "    }\n",
       "\n",
       "    .dataframe tbody tr th {\n",
       "        vertical-align: top;\n",
       "    }\n",
       "\n",
       "    .dataframe thead th {\n",
       "        text-align: right;\n",
       "    }\n",
       "</style>\n",
       "<table border=\"1\" class=\"dataframe\">\n",
       "  <thead>\n",
       "    <tr style=\"text-align: right;\">\n",
       "      <th></th>\n",
       "      <th>event</th>\n",
       "      <th>person</th>\n",
       "      <th>time</th>\n",
       "      <th>value</th>\n",
       "    </tr>\n",
       "  </thead>\n",
       "  <tbody>\n",
       "    <tr>\n",
       "      <th>0</th>\n",
       "      <td>offer received</td>\n",
       "      <td>78afa995795e4d85b5d9ceeca43f5fef</td>\n",
       "      <td>0</td>\n",
       "      <td>{'offer id': '9b98b8c7a33c4b65b9aebfe6a799e6d9'}</td>\n",
       "    </tr>\n",
       "    <tr>\n",
       "      <th>1</th>\n",
       "      <td>offer received</td>\n",
       "      <td>a03223e636434f42ac4c3df47e8bac43</td>\n",
       "      <td>0</td>\n",
       "      <td>{'offer id': '0b1e1539f2cc45b7b9fa7c272da2e1d7'}</td>\n",
       "    </tr>\n",
       "    <tr>\n",
       "      <th>2</th>\n",
       "      <td>offer received</td>\n",
       "      <td>e2127556f4f64592b11af22de27a7932</td>\n",
       "      <td>0</td>\n",
       "      <td>{'offer id': '2906b810c7d4411798c6938adc9daaa5'}</td>\n",
       "    </tr>\n",
       "    <tr>\n",
       "      <th>3</th>\n",
       "      <td>offer received</td>\n",
       "      <td>8ec6ce2a7e7949b1bf142def7d0e0586</td>\n",
       "      <td>0</td>\n",
       "      <td>{'offer id': 'fafdcd668e3743c1bb461111dcafc2a4'}</td>\n",
       "    </tr>\n",
       "    <tr>\n",
       "      <th>4</th>\n",
       "      <td>offer received</td>\n",
       "      <td>68617ca6246f4fbc85e91a2a49552598</td>\n",
       "      <td>0</td>\n",
       "      <td>{'offer id': '4d5c57ea9a6940dd891ad53e9dbe8da0'}</td>\n",
       "    </tr>\n",
       "  </tbody>\n",
       "</table>\n",
       "</div>"
      ],
      "text/plain": [
       "            event                            person  time  \\\n",
       "0  offer received  78afa995795e4d85b5d9ceeca43f5fef     0   \n",
       "1  offer received  a03223e636434f42ac4c3df47e8bac43     0   \n",
       "2  offer received  e2127556f4f64592b11af22de27a7932     0   \n",
       "3  offer received  8ec6ce2a7e7949b1bf142def7d0e0586     0   \n",
       "4  offer received  68617ca6246f4fbc85e91a2a49552598     0   \n",
       "\n",
       "                                              value  \n",
       "0  {'offer id': '9b98b8c7a33c4b65b9aebfe6a799e6d9'}  \n",
       "1  {'offer id': '0b1e1539f2cc45b7b9fa7c272da2e1d7'}  \n",
       "2  {'offer id': '2906b810c7d4411798c6938adc9daaa5'}  \n",
       "3  {'offer id': 'fafdcd668e3743c1bb461111dcafc2a4'}  \n",
       "4  {'offer id': '4d5c57ea9a6940dd891ad53e9dbe8da0'}  "
      ]
     },
     "execution_count": 19,
     "metadata": {},
     "output_type": "execute_result"
    }
   ],
   "source": [
    "transcript.head()"
   ]
  },
  {
   "cell_type": "code",
   "execution_count": 20,
   "metadata": {},
   "outputs": [
    {
     "name": "stdout",
     "output_type": "stream",
     "text": [
      "<class 'pandas.core.frame.DataFrame'>\n",
      "RangeIndex: 306534 entries, 0 to 306533\n",
      "Data columns (total 4 columns):\n",
      "event     306534 non-null object\n",
      "person    306534 non-null object\n",
      "time      306534 non-null int64\n",
      "value     306534 non-null object\n",
      "dtypes: int64(1), object(3)\n",
      "memory usage: 9.4+ MB\n"
     ]
    }
   ],
   "source": [
    "transcript.info()"
   ]
  },
  {
   "cell_type": "code",
   "execution_count": 21,
   "metadata": {},
   "outputs": [
    {
     "data": {
      "text/html": [
       "<div>\n",
       "<style scoped>\n",
       "    .dataframe tbody tr th:only-of-type {\n",
       "        vertical-align: middle;\n",
       "    }\n",
       "\n",
       "    .dataframe tbody tr th {\n",
       "        vertical-align: top;\n",
       "    }\n",
       "\n",
       "    .dataframe thead th {\n",
       "        text-align: right;\n",
       "    }\n",
       "</style>\n",
       "<table border=\"1\" class=\"dataframe\">\n",
       "  <thead>\n",
       "    <tr style=\"text-align: right;\">\n",
       "      <th></th>\n",
       "      <th>time</th>\n",
       "    </tr>\n",
       "  </thead>\n",
       "  <tbody>\n",
       "    <tr>\n",
       "      <th>count</th>\n",
       "      <td>306534.000000</td>\n",
       "    </tr>\n",
       "    <tr>\n",
       "      <th>mean</th>\n",
       "      <td>366.382940</td>\n",
       "    </tr>\n",
       "    <tr>\n",
       "      <th>std</th>\n",
       "      <td>200.326314</td>\n",
       "    </tr>\n",
       "    <tr>\n",
       "      <th>min</th>\n",
       "      <td>0.000000</td>\n",
       "    </tr>\n",
       "    <tr>\n",
       "      <th>25%</th>\n",
       "      <td>186.000000</td>\n",
       "    </tr>\n",
       "    <tr>\n",
       "      <th>50%</th>\n",
       "      <td>408.000000</td>\n",
       "    </tr>\n",
       "    <tr>\n",
       "      <th>75%</th>\n",
       "      <td>528.000000</td>\n",
       "    </tr>\n",
       "    <tr>\n",
       "      <th>max</th>\n",
       "      <td>714.000000</td>\n",
       "    </tr>\n",
       "  </tbody>\n",
       "</table>\n",
       "</div>"
      ],
      "text/plain": [
       "                time\n",
       "count  306534.000000\n",
       "mean      366.382940\n",
       "std       200.326314\n",
       "min         0.000000\n",
       "25%       186.000000\n",
       "50%       408.000000\n",
       "75%       528.000000\n",
       "max       714.000000"
      ]
     },
     "execution_count": 21,
     "metadata": {},
     "output_type": "execute_result"
    }
   ],
   "source": [
    "transcript.describe()"
   ]
  },
  {
   "cell_type": "code",
   "execution_count": 22,
   "metadata": {},
   "outputs": [
    {
     "data": {
      "text/plain": [
       "array(['offer received', 'offer viewed', 'transaction', 'offer completed'], dtype=object)"
      ]
     },
     "execution_count": 22,
     "metadata": {},
     "output_type": "execute_result"
    }
   ],
   "source": [
    "transcript['event'].unique()"
   ]
  },
  {
   "cell_type": "code",
   "execution_count": 23,
   "metadata": {},
   "outputs": [
    {
     "data": {
      "text/plain": [
       "transaction        138953\n",
       "offer received      76277\n",
       "offer viewed        57725\n",
       "offer completed     33579\n",
       "Name: event, dtype: int64"
      ]
     },
     "execution_count": 23,
     "metadata": {},
     "output_type": "execute_result"
    }
   ],
   "source": [
    "transcript['event'].value_counts()"
   ]
  },
  {
   "cell_type": "code",
   "execution_count": 24,
   "metadata": {},
   "outputs": [],
   "source": [
    "df3 = transcript.copy()"
   ]
  },
  {
   "cell_type": "code",
   "execution_count": 25,
   "metadata": {},
   "outputs": [],
   "source": [
    "df3 = df3.rename(columns={'person':'customer_id'})"
   ]
  },
  {
   "cell_type": "code",
   "execution_count": 26,
   "metadata": {},
   "outputs": [],
   "source": [
    "df3['event'] = df3['event'].str.replace(' ', '-')"
   ]
  },
  {
   "cell_type": "code",
   "execution_count": 27,
   "metadata": {},
   "outputs": [
    {
     "data": {
      "text/plain": [
       "transaction        138953\n",
       "offer-received      76277\n",
       "offer-viewed        57725\n",
       "offer-completed     33579\n",
       "Name: event, dtype: int64"
      ]
     },
     "execution_count": 27,
     "metadata": {},
     "output_type": "execute_result"
    }
   ],
   "source": [
    "df3['event'].value_counts()"
   ]
  },
  {
   "cell_type": "code",
   "execution_count": 28,
   "metadata": {},
   "outputs": [],
   "source": [
    "dummy = pd.get_dummies(df3['event'])\n",
    "df3 = pd.concat([df3, dummy], axis=1 )"
   ]
  },
  {
   "cell_type": "code",
   "execution_count": 29,
   "metadata": {},
   "outputs": [
    {
     "data": {
      "text/html": [
       "<div>\n",
       "<style scoped>\n",
       "    .dataframe tbody tr th:only-of-type {\n",
       "        vertical-align: middle;\n",
       "    }\n",
       "\n",
       "    .dataframe tbody tr th {\n",
       "        vertical-align: top;\n",
       "    }\n",
       "\n",
       "    .dataframe thead th {\n",
       "        text-align: right;\n",
       "    }\n",
       "</style>\n",
       "<table border=\"1\" class=\"dataframe\">\n",
       "  <thead>\n",
       "    <tr style=\"text-align: right;\">\n",
       "      <th></th>\n",
       "      <th>event</th>\n",
       "      <th>customer_id</th>\n",
       "      <th>time</th>\n",
       "      <th>value</th>\n",
       "      <th>offer-completed</th>\n",
       "      <th>offer-received</th>\n",
       "      <th>offer-viewed</th>\n",
       "      <th>transaction</th>\n",
       "    </tr>\n",
       "  </thead>\n",
       "  <tbody>\n",
       "    <tr>\n",
       "      <th>0</th>\n",
       "      <td>offer-received</td>\n",
       "      <td>78afa995795e4d85b5d9ceeca43f5fef</td>\n",
       "      <td>0</td>\n",
       "      <td>{'offer id': '9b98b8c7a33c4b65b9aebfe6a799e6d9'}</td>\n",
       "      <td>0</td>\n",
       "      <td>1</td>\n",
       "      <td>0</td>\n",
       "      <td>0</td>\n",
       "    </tr>\n",
       "    <tr>\n",
       "      <th>1</th>\n",
       "      <td>offer-received</td>\n",
       "      <td>a03223e636434f42ac4c3df47e8bac43</td>\n",
       "      <td>0</td>\n",
       "      <td>{'offer id': '0b1e1539f2cc45b7b9fa7c272da2e1d7'}</td>\n",
       "      <td>0</td>\n",
       "      <td>1</td>\n",
       "      <td>0</td>\n",
       "      <td>0</td>\n",
       "    </tr>\n",
       "    <tr>\n",
       "      <th>2</th>\n",
       "      <td>offer-received</td>\n",
       "      <td>e2127556f4f64592b11af22de27a7932</td>\n",
       "      <td>0</td>\n",
       "      <td>{'offer id': '2906b810c7d4411798c6938adc9daaa5'}</td>\n",
       "      <td>0</td>\n",
       "      <td>1</td>\n",
       "      <td>0</td>\n",
       "      <td>0</td>\n",
       "    </tr>\n",
       "    <tr>\n",
       "      <th>3</th>\n",
       "      <td>offer-received</td>\n",
       "      <td>8ec6ce2a7e7949b1bf142def7d0e0586</td>\n",
       "      <td>0</td>\n",
       "      <td>{'offer id': 'fafdcd668e3743c1bb461111dcafc2a4'}</td>\n",
       "      <td>0</td>\n",
       "      <td>1</td>\n",
       "      <td>0</td>\n",
       "      <td>0</td>\n",
       "    </tr>\n",
       "    <tr>\n",
       "      <th>4</th>\n",
       "      <td>offer-received</td>\n",
       "      <td>68617ca6246f4fbc85e91a2a49552598</td>\n",
       "      <td>0</td>\n",
       "      <td>{'offer id': '4d5c57ea9a6940dd891ad53e9dbe8da0'}</td>\n",
       "      <td>0</td>\n",
       "      <td>1</td>\n",
       "      <td>0</td>\n",
       "      <td>0</td>\n",
       "    </tr>\n",
       "  </tbody>\n",
       "</table>\n",
       "</div>"
      ],
      "text/plain": [
       "            event                       customer_id  time  \\\n",
       "0  offer-received  78afa995795e4d85b5d9ceeca43f5fef     0   \n",
       "1  offer-received  a03223e636434f42ac4c3df47e8bac43     0   \n",
       "2  offer-received  e2127556f4f64592b11af22de27a7932     0   \n",
       "3  offer-received  8ec6ce2a7e7949b1bf142def7d0e0586     0   \n",
       "4  offer-received  68617ca6246f4fbc85e91a2a49552598     0   \n",
       "\n",
       "                                              value  offer-completed  \\\n",
       "0  {'offer id': '9b98b8c7a33c4b65b9aebfe6a799e6d9'}                0   \n",
       "1  {'offer id': '0b1e1539f2cc45b7b9fa7c272da2e1d7'}                0   \n",
       "2  {'offer id': '2906b810c7d4411798c6938adc9daaa5'}                0   \n",
       "3  {'offer id': 'fafdcd668e3743c1bb461111dcafc2a4'}                0   \n",
       "4  {'offer id': '4d5c57ea9a6940dd891ad53e9dbe8da0'}                0   \n",
       "\n",
       "   offer-received  offer-viewed  transaction  \n",
       "0               1             0            0  \n",
       "1               1             0            0  \n",
       "2               1             0            0  \n",
       "3               1             0            0  \n",
       "4               1             0            0  "
      ]
     },
     "execution_count": 29,
     "metadata": {},
     "output_type": "execute_result"
    }
   ],
   "source": [
    "df3.head()"
   ]
  },
  {
   "cell_type": "code",
   "execution_count": 30,
   "metadata": {},
   "outputs": [],
   "source": [
    "df3['offer_id'] = [[*i.values()][0]if [*i.keys()][0] in ['offer id','offer_id'] else None for i in df3.value]\n",
    "df3['amount'] = [np.round([*i.values()][0], decimals=2)if [*i.keys()][0] == 'amount' else None for i in df3.value]"
   ]
  },
  {
   "cell_type": "code",
   "execution_count": 31,
   "metadata": {},
   "outputs": [],
   "source": [
    "df3 = df3.drop(columns='value')"
   ]
  },
  {
   "cell_type": "code",
   "execution_count": 32,
   "metadata": {},
   "outputs": [
    {
     "data": {
      "text/html": [
       "<div>\n",
       "<style scoped>\n",
       "    .dataframe tbody tr th:only-of-type {\n",
       "        vertical-align: middle;\n",
       "    }\n",
       "\n",
       "    .dataframe tbody tr th {\n",
       "        vertical-align: top;\n",
       "    }\n",
       "\n",
       "    .dataframe thead th {\n",
       "        text-align: right;\n",
       "    }\n",
       "</style>\n",
       "<table border=\"1\" class=\"dataframe\">\n",
       "  <thead>\n",
       "    <tr style=\"text-align: right;\">\n",
       "      <th></th>\n",
       "      <th>event</th>\n",
       "      <th>customer_id</th>\n",
       "      <th>time</th>\n",
       "      <th>offer-completed</th>\n",
       "      <th>offer-received</th>\n",
       "      <th>offer-viewed</th>\n",
       "      <th>transaction</th>\n",
       "      <th>offer_id</th>\n",
       "      <th>amount</th>\n",
       "    </tr>\n",
       "  </thead>\n",
       "  <tbody>\n",
       "    <tr>\n",
       "      <th>0</th>\n",
       "      <td>offer-received</td>\n",
       "      <td>78afa995795e4d85b5d9ceeca43f5fef</td>\n",
       "      <td>0</td>\n",
       "      <td>0</td>\n",
       "      <td>1</td>\n",
       "      <td>0</td>\n",
       "      <td>0</td>\n",
       "      <td>9b98b8c7a33c4b65b9aebfe6a799e6d9</td>\n",
       "      <td>NaN</td>\n",
       "    </tr>\n",
       "    <tr>\n",
       "      <th>1</th>\n",
       "      <td>offer-received</td>\n",
       "      <td>a03223e636434f42ac4c3df47e8bac43</td>\n",
       "      <td>0</td>\n",
       "      <td>0</td>\n",
       "      <td>1</td>\n",
       "      <td>0</td>\n",
       "      <td>0</td>\n",
       "      <td>0b1e1539f2cc45b7b9fa7c272da2e1d7</td>\n",
       "      <td>NaN</td>\n",
       "    </tr>\n",
       "    <tr>\n",
       "      <th>2</th>\n",
       "      <td>offer-received</td>\n",
       "      <td>e2127556f4f64592b11af22de27a7932</td>\n",
       "      <td>0</td>\n",
       "      <td>0</td>\n",
       "      <td>1</td>\n",
       "      <td>0</td>\n",
       "      <td>0</td>\n",
       "      <td>2906b810c7d4411798c6938adc9daaa5</td>\n",
       "      <td>NaN</td>\n",
       "    </tr>\n",
       "    <tr>\n",
       "      <th>3</th>\n",
       "      <td>offer-received</td>\n",
       "      <td>8ec6ce2a7e7949b1bf142def7d0e0586</td>\n",
       "      <td>0</td>\n",
       "      <td>0</td>\n",
       "      <td>1</td>\n",
       "      <td>0</td>\n",
       "      <td>0</td>\n",
       "      <td>fafdcd668e3743c1bb461111dcafc2a4</td>\n",
       "      <td>NaN</td>\n",
       "    </tr>\n",
       "    <tr>\n",
       "      <th>4</th>\n",
       "      <td>offer-received</td>\n",
       "      <td>68617ca6246f4fbc85e91a2a49552598</td>\n",
       "      <td>0</td>\n",
       "      <td>0</td>\n",
       "      <td>1</td>\n",
       "      <td>0</td>\n",
       "      <td>0</td>\n",
       "      <td>4d5c57ea9a6940dd891ad53e9dbe8da0</td>\n",
       "      <td>NaN</td>\n",
       "    </tr>\n",
       "  </tbody>\n",
       "</table>\n",
       "</div>"
      ],
      "text/plain": [
       "            event                       customer_id  time  offer-completed  \\\n",
       "0  offer-received  78afa995795e4d85b5d9ceeca43f5fef     0                0   \n",
       "1  offer-received  a03223e636434f42ac4c3df47e8bac43     0                0   \n",
       "2  offer-received  e2127556f4f64592b11af22de27a7932     0                0   \n",
       "3  offer-received  8ec6ce2a7e7949b1bf142def7d0e0586     0                0   \n",
       "4  offer-received  68617ca6246f4fbc85e91a2a49552598     0                0   \n",
       "\n",
       "   offer-received  offer-viewed  transaction  \\\n",
       "0               1             0            0   \n",
       "1               1             0            0   \n",
       "2               1             0            0   \n",
       "3               1             0            0   \n",
       "4               1             0            0   \n",
       "\n",
       "                           offer_id  amount  \n",
       "0  9b98b8c7a33c4b65b9aebfe6a799e6d9     NaN  \n",
       "1  0b1e1539f2cc45b7b9fa7c272da2e1d7     NaN  \n",
       "2  2906b810c7d4411798c6938adc9daaa5     NaN  \n",
       "3  fafdcd668e3743c1bb461111dcafc2a4     NaN  \n",
       "4  4d5c57ea9a6940dd891ad53e9dbe8da0     NaN  "
      ]
     },
     "execution_count": 32,
     "metadata": {},
     "output_type": "execute_result"
    }
   ],
   "source": [
    "df3.head()"
   ]
  },
  {
   "cell_type": "code",
   "execution_count": 33,
   "metadata": {},
   "outputs": [],
   "source": [
    "t_p = pd.merge(df3, profile1, on='customer_id')"
   ]
  },
  {
   "cell_type": "code",
   "execution_count": 34,
   "metadata": {},
   "outputs": [
    {
     "data": {
      "text/html": [
       "<div>\n",
       "<style scoped>\n",
       "    .dataframe tbody tr th:only-of-type {\n",
       "        vertical-align: middle;\n",
       "    }\n",
       "\n",
       "    .dataframe tbody tr th {\n",
       "        vertical-align: top;\n",
       "    }\n",
       "\n",
       "    .dataframe thead th {\n",
       "        text-align: right;\n",
       "    }\n",
       "</style>\n",
       "<table border=\"1\" class=\"dataframe\">\n",
       "  <thead>\n",
       "    <tr style=\"text-align: right;\">\n",
       "      <th></th>\n",
       "      <th>event</th>\n",
       "      <th>customer_id</th>\n",
       "      <th>time</th>\n",
       "      <th>offer-completed</th>\n",
       "      <th>offer-received</th>\n",
       "      <th>offer-viewed</th>\n",
       "      <th>transaction</th>\n",
       "      <th>offer_id</th>\n",
       "      <th>amount</th>\n",
       "      <th>age</th>\n",
       "      <th>became_member_on</th>\n",
       "      <th>gender</th>\n",
       "      <th>income</th>\n",
       "      <th>difficulty</th>\n",
       "      <th>duration</th>\n",
       "      <th>offer_type</th>\n",
       "      <th>reward</th>\n",
       "      <th>mobile</th>\n",
       "      <th>social</th>\n",
       "      <th>web</th>\n",
       "    </tr>\n",
       "  </thead>\n",
       "  <tbody>\n",
       "    <tr>\n",
       "      <th>0</th>\n",
       "      <td>offer-received</td>\n",
       "      <td>78afa995795e4d85b5d9ceeca43f5fef</td>\n",
       "      <td>0</td>\n",
       "      <td>0</td>\n",
       "      <td>1</td>\n",
       "      <td>0</td>\n",
       "      <td>0</td>\n",
       "      <td>9b98b8c7a33c4b65b9aebfe6a799e6d9</td>\n",
       "      <td>NaN</td>\n",
       "      <td>75</td>\n",
       "      <td>20170509</td>\n",
       "      <td>F</td>\n",
       "      <td>100000.0</td>\n",
       "      <td>5.0</td>\n",
       "      <td>7.0</td>\n",
       "      <td>bogo</td>\n",
       "      <td>5.0</td>\n",
       "      <td>1.0</td>\n",
       "      <td>0.0</td>\n",
       "      <td>1.0</td>\n",
       "    </tr>\n",
       "    <tr>\n",
       "      <th>1</th>\n",
       "      <td>offer-viewed</td>\n",
       "      <td>78afa995795e4d85b5d9ceeca43f5fef</td>\n",
       "      <td>6</td>\n",
       "      <td>0</td>\n",
       "      <td>0</td>\n",
       "      <td>1</td>\n",
       "      <td>0</td>\n",
       "      <td>9b98b8c7a33c4b65b9aebfe6a799e6d9</td>\n",
       "      <td>NaN</td>\n",
       "      <td>75</td>\n",
       "      <td>20170509</td>\n",
       "      <td>F</td>\n",
       "      <td>100000.0</td>\n",
       "      <td>5.0</td>\n",
       "      <td>7.0</td>\n",
       "      <td>bogo</td>\n",
       "      <td>5.0</td>\n",
       "      <td>1.0</td>\n",
       "      <td>0.0</td>\n",
       "      <td>1.0</td>\n",
       "    </tr>\n",
       "    <tr>\n",
       "      <th>2</th>\n",
       "      <td>transaction</td>\n",
       "      <td>78afa995795e4d85b5d9ceeca43f5fef</td>\n",
       "      <td>132</td>\n",
       "      <td>0</td>\n",
       "      <td>0</td>\n",
       "      <td>0</td>\n",
       "      <td>1</td>\n",
       "      <td>None</td>\n",
       "      <td>19.89</td>\n",
       "      <td>75</td>\n",
       "      <td>20170509</td>\n",
       "      <td>F</td>\n",
       "      <td>100000.0</td>\n",
       "      <td>NaN</td>\n",
       "      <td>NaN</td>\n",
       "      <td>NaN</td>\n",
       "      <td>NaN</td>\n",
       "      <td>NaN</td>\n",
       "      <td>NaN</td>\n",
       "      <td>NaN</td>\n",
       "    </tr>\n",
       "    <tr>\n",
       "      <th>3</th>\n",
       "      <td>offer-completed</td>\n",
       "      <td>78afa995795e4d85b5d9ceeca43f5fef</td>\n",
       "      <td>132</td>\n",
       "      <td>1</td>\n",
       "      <td>0</td>\n",
       "      <td>0</td>\n",
       "      <td>0</td>\n",
       "      <td>9b98b8c7a33c4b65b9aebfe6a799e6d9</td>\n",
       "      <td>NaN</td>\n",
       "      <td>75</td>\n",
       "      <td>20170509</td>\n",
       "      <td>F</td>\n",
       "      <td>100000.0</td>\n",
       "      <td>5.0</td>\n",
       "      <td>7.0</td>\n",
       "      <td>bogo</td>\n",
       "      <td>5.0</td>\n",
       "      <td>1.0</td>\n",
       "      <td>0.0</td>\n",
       "      <td>1.0</td>\n",
       "    </tr>\n",
       "    <tr>\n",
       "      <th>4</th>\n",
       "      <td>transaction</td>\n",
       "      <td>78afa995795e4d85b5d9ceeca43f5fef</td>\n",
       "      <td>144</td>\n",
       "      <td>0</td>\n",
       "      <td>0</td>\n",
       "      <td>0</td>\n",
       "      <td>1</td>\n",
       "      <td>None</td>\n",
       "      <td>17.78</td>\n",
       "      <td>75</td>\n",
       "      <td>20170509</td>\n",
       "      <td>F</td>\n",
       "      <td>100000.0</td>\n",
       "      <td>NaN</td>\n",
       "      <td>NaN</td>\n",
       "      <td>NaN</td>\n",
       "      <td>NaN</td>\n",
       "      <td>NaN</td>\n",
       "      <td>NaN</td>\n",
       "      <td>NaN</td>\n",
       "    </tr>\n",
       "  </tbody>\n",
       "</table>\n",
       "</div>"
      ],
      "text/plain": [
       "             event                       customer_id  time  offer-completed  \\\n",
       "0   offer-received  78afa995795e4d85b5d9ceeca43f5fef     0                0   \n",
       "1     offer-viewed  78afa995795e4d85b5d9ceeca43f5fef     6                0   \n",
       "2      transaction  78afa995795e4d85b5d9ceeca43f5fef   132                0   \n",
       "3  offer-completed  78afa995795e4d85b5d9ceeca43f5fef   132                1   \n",
       "4      transaction  78afa995795e4d85b5d9ceeca43f5fef   144                0   \n",
       "\n",
       "   offer-received  offer-viewed  transaction  \\\n",
       "0               1             0            0   \n",
       "1               0             1            0   \n",
       "2               0             0            1   \n",
       "3               0             0            0   \n",
       "4               0             0            1   \n",
       "\n",
       "                           offer_id  amount  age  became_member_on gender  \\\n",
       "0  9b98b8c7a33c4b65b9aebfe6a799e6d9     NaN   75          20170509      F   \n",
       "1  9b98b8c7a33c4b65b9aebfe6a799e6d9     NaN   75          20170509      F   \n",
       "2                              None   19.89   75          20170509      F   \n",
       "3  9b98b8c7a33c4b65b9aebfe6a799e6d9     NaN   75          20170509      F   \n",
       "4                              None   17.78   75          20170509      F   \n",
       "\n",
       "     income  difficulty  duration offer_type  reward  mobile  social  web  \n",
       "0  100000.0         5.0       7.0       bogo     5.0     1.0     0.0  1.0  \n",
       "1  100000.0         5.0       7.0       bogo     5.0     1.0     0.0  1.0  \n",
       "2  100000.0         NaN       NaN        NaN     NaN     NaN     NaN  NaN  \n",
       "3  100000.0         5.0       7.0       bogo     5.0     1.0     0.0  1.0  \n",
       "4  100000.0         NaN       NaN        NaN     NaN     NaN     NaN  NaN  "
      ]
     },
     "execution_count": 34,
     "metadata": {},
     "output_type": "execute_result"
    }
   ],
   "source": [
    "df = pd.merge(t_p, portfolio1, on='offer_id', how='left')\n",
    "df.head()"
   ]
  },
  {
   "cell_type": "code",
   "execution_count": 35,
   "metadata": {},
   "outputs": [
    {
     "data": {
      "text/plain": [
       "array(['9b98b8c7a33c4b65b9aebfe6a799e6d9', None,\n",
       "       '5a8bc65990b245e5a138643cd4eb9837',\n",
       "       'ae264e3637204a6fb9bb56bc8210ddfd',\n",
       "       'f19421c1d4aa40978ebb69ca19b0e20d',\n",
       "       '2906b810c7d4411798c6938adc9daaa5',\n",
       "       '3f207df678b143eea3cee63160fa8bed',\n",
       "       'fafdcd668e3743c1bb461111dcafc2a4',\n",
       "       '2298d6c36e964ae4a3e7e9706d1fb8c2',\n",
       "       '0b1e1539f2cc45b7b9fa7c272da2e1d7',\n",
       "       '4d5c57ea9a6940dd891ad53e9dbe8da0'], dtype=object)"
      ]
     },
     "execution_count": 35,
     "metadata": {},
     "output_type": "execute_result"
    }
   ],
   "source": [
    "offer_id = df['offer_id'].unique()\n",
    "offer_id"
   ]
  },
  {
   "cell_type": "code",
   "execution_count": 36,
   "metadata": {},
   "outputs": [
    {
     "data": {
      "text/plain": [
       "{0: '9b98b8c7a33c4b65b9aebfe6a799e6d9',\n",
       " 1: None,\n",
       " 2: '5a8bc65990b245e5a138643cd4eb9837',\n",
       " 3: 'ae264e3637204a6fb9bb56bc8210ddfd',\n",
       " 4: 'f19421c1d4aa40978ebb69ca19b0e20d',\n",
       " 5: '2906b810c7d4411798c6938adc9daaa5',\n",
       " 6: '3f207df678b143eea3cee63160fa8bed',\n",
       " 7: 'fafdcd668e3743c1bb461111dcafc2a4',\n",
       " 8: '2298d6c36e964ae4a3e7e9706d1fb8c2',\n",
       " 9: '0b1e1539f2cc45b7b9fa7c272da2e1d7',\n",
       " 10: '4d5c57ea9a6940dd891ad53e9dbe8da0'}"
      ]
     },
     "execution_count": 36,
     "metadata": {},
     "output_type": "execute_result"
    }
   ],
   "source": [
    "offer_dict = pd.Series(offer_id ).to_dict()\n",
    "offer_dict"
   ]
  },
  {
   "cell_type": "code",
   "execution_count": 37,
   "metadata": {},
   "outputs": [
    {
     "data": {
      "text/plain": [
       "{'9b98b8c7a33c4b65b9aebfe6a799e6d9': 0,\n",
       " None: 1,\n",
       " '5a8bc65990b245e5a138643cd4eb9837': 2,\n",
       " 'ae264e3637204a6fb9bb56bc8210ddfd': 3,\n",
       " 'f19421c1d4aa40978ebb69ca19b0e20d': 4,\n",
       " '2906b810c7d4411798c6938adc9daaa5': 5,\n",
       " '3f207df678b143eea3cee63160fa8bed': 6,\n",
       " 'fafdcd668e3743c1bb461111dcafc2a4': 7,\n",
       " '2298d6c36e964ae4a3e7e9706d1fb8c2': 8,\n",
       " '0b1e1539f2cc45b7b9fa7c272da2e1d7': 9,\n",
       " '4d5c57ea9a6940dd891ad53e9dbe8da0': 10}"
      ]
     },
     "execution_count": 37,
     "metadata": {},
     "output_type": "execute_result"
    }
   ],
   "source": [
    "offer_dict = dict([(value, key) for key, value in offer_dict.items()]) \n",
    "offer_dict"
   ]
  },
  {
   "cell_type": "code",
   "execution_count": 38,
   "metadata": {},
   "outputs": [
    {
     "data": {
      "text/html": [
       "<div>\n",
       "<style scoped>\n",
       "    .dataframe tbody tr th:only-of-type {\n",
       "        vertical-align: middle;\n",
       "    }\n",
       "\n",
       "    .dataframe tbody tr th {\n",
       "        vertical-align: top;\n",
       "    }\n",
       "\n",
       "    .dataframe thead th {\n",
       "        text-align: right;\n",
       "    }\n",
       "</style>\n",
       "<table border=\"1\" class=\"dataframe\">\n",
       "  <thead>\n",
       "    <tr style=\"text-align: right;\">\n",
       "      <th></th>\n",
       "      <th>event</th>\n",
       "      <th>customer_id</th>\n",
       "      <th>time</th>\n",
       "      <th>offer-completed</th>\n",
       "      <th>offer-received</th>\n",
       "      <th>offer-viewed</th>\n",
       "      <th>transaction</th>\n",
       "      <th>offer_id</th>\n",
       "      <th>amount</th>\n",
       "      <th>age</th>\n",
       "      <th>became_member_on</th>\n",
       "      <th>gender</th>\n",
       "      <th>income</th>\n",
       "      <th>difficulty</th>\n",
       "      <th>duration</th>\n",
       "      <th>offer_type</th>\n",
       "      <th>reward</th>\n",
       "      <th>mobile</th>\n",
       "      <th>social</th>\n",
       "      <th>web</th>\n",
       "    </tr>\n",
       "  </thead>\n",
       "  <tbody>\n",
       "    <tr>\n",
       "      <th>0</th>\n",
       "      <td>offer-received</td>\n",
       "      <td>78afa995795e4d85b5d9ceeca43f5fef</td>\n",
       "      <td>0</td>\n",
       "      <td>0</td>\n",
       "      <td>1</td>\n",
       "      <td>0</td>\n",
       "      <td>0</td>\n",
       "      <td>0</td>\n",
       "      <td>NaN</td>\n",
       "      <td>75</td>\n",
       "      <td>20170509</td>\n",
       "      <td>F</td>\n",
       "      <td>100000.0</td>\n",
       "      <td>5.0</td>\n",
       "      <td>7.0</td>\n",
       "      <td>bogo</td>\n",
       "      <td>5.0</td>\n",
       "      <td>1.0</td>\n",
       "      <td>0.0</td>\n",
       "      <td>1.0</td>\n",
       "    </tr>\n",
       "    <tr>\n",
       "      <th>1</th>\n",
       "      <td>offer-viewed</td>\n",
       "      <td>78afa995795e4d85b5d9ceeca43f5fef</td>\n",
       "      <td>6</td>\n",
       "      <td>0</td>\n",
       "      <td>0</td>\n",
       "      <td>1</td>\n",
       "      <td>0</td>\n",
       "      <td>0</td>\n",
       "      <td>NaN</td>\n",
       "      <td>75</td>\n",
       "      <td>20170509</td>\n",
       "      <td>F</td>\n",
       "      <td>100000.0</td>\n",
       "      <td>5.0</td>\n",
       "      <td>7.0</td>\n",
       "      <td>bogo</td>\n",
       "      <td>5.0</td>\n",
       "      <td>1.0</td>\n",
       "      <td>0.0</td>\n",
       "      <td>1.0</td>\n",
       "    </tr>\n",
       "    <tr>\n",
       "      <th>2</th>\n",
       "      <td>transaction</td>\n",
       "      <td>78afa995795e4d85b5d9ceeca43f5fef</td>\n",
       "      <td>132</td>\n",
       "      <td>0</td>\n",
       "      <td>0</td>\n",
       "      <td>0</td>\n",
       "      <td>1</td>\n",
       "      <td>1</td>\n",
       "      <td>19.89</td>\n",
       "      <td>75</td>\n",
       "      <td>20170509</td>\n",
       "      <td>F</td>\n",
       "      <td>100000.0</td>\n",
       "      <td>NaN</td>\n",
       "      <td>NaN</td>\n",
       "      <td>NaN</td>\n",
       "      <td>NaN</td>\n",
       "      <td>NaN</td>\n",
       "      <td>NaN</td>\n",
       "      <td>NaN</td>\n",
       "    </tr>\n",
       "    <tr>\n",
       "      <th>3</th>\n",
       "      <td>offer-completed</td>\n",
       "      <td>78afa995795e4d85b5d9ceeca43f5fef</td>\n",
       "      <td>132</td>\n",
       "      <td>1</td>\n",
       "      <td>0</td>\n",
       "      <td>0</td>\n",
       "      <td>0</td>\n",
       "      <td>0</td>\n",
       "      <td>NaN</td>\n",
       "      <td>75</td>\n",
       "      <td>20170509</td>\n",
       "      <td>F</td>\n",
       "      <td>100000.0</td>\n",
       "      <td>5.0</td>\n",
       "      <td>7.0</td>\n",
       "      <td>bogo</td>\n",
       "      <td>5.0</td>\n",
       "      <td>1.0</td>\n",
       "      <td>0.0</td>\n",
       "      <td>1.0</td>\n",
       "    </tr>\n",
       "    <tr>\n",
       "      <th>4</th>\n",
       "      <td>transaction</td>\n",
       "      <td>78afa995795e4d85b5d9ceeca43f5fef</td>\n",
       "      <td>144</td>\n",
       "      <td>0</td>\n",
       "      <td>0</td>\n",
       "      <td>0</td>\n",
       "      <td>1</td>\n",
       "      <td>1</td>\n",
       "      <td>17.78</td>\n",
       "      <td>75</td>\n",
       "      <td>20170509</td>\n",
       "      <td>F</td>\n",
       "      <td>100000.0</td>\n",
       "      <td>NaN</td>\n",
       "      <td>NaN</td>\n",
       "      <td>NaN</td>\n",
       "      <td>NaN</td>\n",
       "      <td>NaN</td>\n",
       "      <td>NaN</td>\n",
       "      <td>NaN</td>\n",
       "    </tr>\n",
       "  </tbody>\n",
       "</table>\n",
       "</div>"
      ],
      "text/plain": [
       "             event                       customer_id  time  offer-completed  \\\n",
       "0   offer-received  78afa995795e4d85b5d9ceeca43f5fef     0                0   \n",
       "1     offer-viewed  78afa995795e4d85b5d9ceeca43f5fef     6                0   \n",
       "2      transaction  78afa995795e4d85b5d9ceeca43f5fef   132                0   \n",
       "3  offer-completed  78afa995795e4d85b5d9ceeca43f5fef   132                1   \n",
       "4      transaction  78afa995795e4d85b5d9ceeca43f5fef   144                0   \n",
       "\n",
       "   offer-received  offer-viewed  transaction  offer_id  amount  age  \\\n",
       "0               1             0            0         0     NaN   75   \n",
       "1               0             1            0         0     NaN   75   \n",
       "2               0             0            1         1   19.89   75   \n",
       "3               0             0            0         0     NaN   75   \n",
       "4               0             0            1         1   17.78   75   \n",
       "\n",
       "   became_member_on gender    income  difficulty  duration offer_type  reward  \\\n",
       "0          20170509      F  100000.0         5.0       7.0       bogo     5.0   \n",
       "1          20170509      F  100000.0         5.0       7.0       bogo     5.0   \n",
       "2          20170509      F  100000.0         NaN       NaN        NaN     NaN   \n",
       "3          20170509      F  100000.0         5.0       7.0       bogo     5.0   \n",
       "4          20170509      F  100000.0         NaN       NaN        NaN     NaN   \n",
       "\n",
       "   mobile  social  web  \n",
       "0     1.0     0.0  1.0  \n",
       "1     1.0     0.0  1.0  \n",
       "2     NaN     NaN  NaN  \n",
       "3     1.0     0.0  1.0  \n",
       "4     NaN     NaN  NaN  "
      ]
     },
     "execution_count": 38,
     "metadata": {},
     "output_type": "execute_result"
    }
   ],
   "source": [
    "df['offer_id'] = df['offer_id'].map(offer_dict)\n",
    "df.head()"
   ]
  },
  {
   "cell_type": "code",
   "execution_count": 39,
   "metadata": {},
   "outputs": [],
   "source": [
    "df['offer_id'] = df['offer_id'].replace(1, np.nan)"
   ]
  },
  {
   "cell_type": "code",
   "execution_count": 40,
   "metadata": {},
   "outputs": [
    {
     "data": {
      "text/html": [
       "<div>\n",
       "<style scoped>\n",
       "    .dataframe tbody tr th:only-of-type {\n",
       "        vertical-align: middle;\n",
       "    }\n",
       "\n",
       "    .dataframe tbody tr th {\n",
       "        vertical-align: top;\n",
       "    }\n",
       "\n",
       "    .dataframe thead th {\n",
       "        text-align: right;\n",
       "    }\n",
       "</style>\n",
       "<table border=\"1\" class=\"dataframe\">\n",
       "  <thead>\n",
       "    <tr style=\"text-align: right;\">\n",
       "      <th></th>\n",
       "      <th>event</th>\n",
       "      <th>customer_id</th>\n",
       "      <th>time</th>\n",
       "      <th>offer-completed</th>\n",
       "      <th>offer-received</th>\n",
       "      <th>offer-viewed</th>\n",
       "      <th>transaction</th>\n",
       "      <th>offer_id</th>\n",
       "      <th>amount</th>\n",
       "      <th>age</th>\n",
       "      <th>became_member_on</th>\n",
       "      <th>gender</th>\n",
       "      <th>income</th>\n",
       "      <th>difficulty</th>\n",
       "      <th>duration</th>\n",
       "      <th>offer_type</th>\n",
       "      <th>reward</th>\n",
       "      <th>mobile</th>\n",
       "      <th>social</th>\n",
       "      <th>web</th>\n",
       "    </tr>\n",
       "  </thead>\n",
       "  <tbody>\n",
       "    <tr>\n",
       "      <th>0</th>\n",
       "      <td>offer-received</td>\n",
       "      <td>78afa995795e4d85b5d9ceeca43f5fef</td>\n",
       "      <td>0</td>\n",
       "      <td>0</td>\n",
       "      <td>1</td>\n",
       "      <td>0</td>\n",
       "      <td>0</td>\n",
       "      <td>0.0</td>\n",
       "      <td>NaN</td>\n",
       "      <td>75</td>\n",
       "      <td>20170509</td>\n",
       "      <td>F</td>\n",
       "      <td>100000.0</td>\n",
       "      <td>5.0</td>\n",
       "      <td>7.0</td>\n",
       "      <td>bogo</td>\n",
       "      <td>5.0</td>\n",
       "      <td>1.0</td>\n",
       "      <td>0.0</td>\n",
       "      <td>1.0</td>\n",
       "    </tr>\n",
       "    <tr>\n",
       "      <th>1</th>\n",
       "      <td>offer-viewed</td>\n",
       "      <td>78afa995795e4d85b5d9ceeca43f5fef</td>\n",
       "      <td>6</td>\n",
       "      <td>0</td>\n",
       "      <td>0</td>\n",
       "      <td>1</td>\n",
       "      <td>0</td>\n",
       "      <td>0.0</td>\n",
       "      <td>NaN</td>\n",
       "      <td>75</td>\n",
       "      <td>20170509</td>\n",
       "      <td>F</td>\n",
       "      <td>100000.0</td>\n",
       "      <td>5.0</td>\n",
       "      <td>7.0</td>\n",
       "      <td>bogo</td>\n",
       "      <td>5.0</td>\n",
       "      <td>1.0</td>\n",
       "      <td>0.0</td>\n",
       "      <td>1.0</td>\n",
       "    </tr>\n",
       "    <tr>\n",
       "      <th>2</th>\n",
       "      <td>transaction</td>\n",
       "      <td>78afa995795e4d85b5d9ceeca43f5fef</td>\n",
       "      <td>132</td>\n",
       "      <td>0</td>\n",
       "      <td>0</td>\n",
       "      <td>0</td>\n",
       "      <td>1</td>\n",
       "      <td>NaN</td>\n",
       "      <td>19.89</td>\n",
       "      <td>75</td>\n",
       "      <td>20170509</td>\n",
       "      <td>F</td>\n",
       "      <td>100000.0</td>\n",
       "      <td>NaN</td>\n",
       "      <td>NaN</td>\n",
       "      <td>NaN</td>\n",
       "      <td>NaN</td>\n",
       "      <td>NaN</td>\n",
       "      <td>NaN</td>\n",
       "      <td>NaN</td>\n",
       "    </tr>\n",
       "    <tr>\n",
       "      <th>3</th>\n",
       "      <td>offer-completed</td>\n",
       "      <td>78afa995795e4d85b5d9ceeca43f5fef</td>\n",
       "      <td>132</td>\n",
       "      <td>1</td>\n",
       "      <td>0</td>\n",
       "      <td>0</td>\n",
       "      <td>0</td>\n",
       "      <td>0.0</td>\n",
       "      <td>NaN</td>\n",
       "      <td>75</td>\n",
       "      <td>20170509</td>\n",
       "      <td>F</td>\n",
       "      <td>100000.0</td>\n",
       "      <td>5.0</td>\n",
       "      <td>7.0</td>\n",
       "      <td>bogo</td>\n",
       "      <td>5.0</td>\n",
       "      <td>1.0</td>\n",
       "      <td>0.0</td>\n",
       "      <td>1.0</td>\n",
       "    </tr>\n",
       "    <tr>\n",
       "      <th>4</th>\n",
       "      <td>transaction</td>\n",
       "      <td>78afa995795e4d85b5d9ceeca43f5fef</td>\n",
       "      <td>144</td>\n",
       "      <td>0</td>\n",
       "      <td>0</td>\n",
       "      <td>0</td>\n",
       "      <td>1</td>\n",
       "      <td>NaN</td>\n",
       "      <td>17.78</td>\n",
       "      <td>75</td>\n",
       "      <td>20170509</td>\n",
       "      <td>F</td>\n",
       "      <td>100000.0</td>\n",
       "      <td>NaN</td>\n",
       "      <td>NaN</td>\n",
       "      <td>NaN</td>\n",
       "      <td>NaN</td>\n",
       "      <td>NaN</td>\n",
       "      <td>NaN</td>\n",
       "      <td>NaN</td>\n",
       "    </tr>\n",
       "  </tbody>\n",
       "</table>\n",
       "</div>"
      ],
      "text/plain": [
       "             event                       customer_id  time  offer-completed  \\\n",
       "0   offer-received  78afa995795e4d85b5d9ceeca43f5fef     0                0   \n",
       "1     offer-viewed  78afa995795e4d85b5d9ceeca43f5fef     6                0   \n",
       "2      transaction  78afa995795e4d85b5d9ceeca43f5fef   132                0   \n",
       "3  offer-completed  78afa995795e4d85b5d9ceeca43f5fef   132                1   \n",
       "4      transaction  78afa995795e4d85b5d9ceeca43f5fef   144                0   \n",
       "\n",
       "   offer-received  offer-viewed  transaction  offer_id  amount  age  \\\n",
       "0               1             0            0       0.0     NaN   75   \n",
       "1               0             1            0       0.0     NaN   75   \n",
       "2               0             0            1       NaN   19.89   75   \n",
       "3               0             0            0       0.0     NaN   75   \n",
       "4               0             0            1       NaN   17.78   75   \n",
       "\n",
       "   became_member_on gender    income  difficulty  duration offer_type  reward  \\\n",
       "0          20170509      F  100000.0         5.0       7.0       bogo     5.0   \n",
       "1          20170509      F  100000.0         5.0       7.0       bogo     5.0   \n",
       "2          20170509      F  100000.0         NaN       NaN        NaN     NaN   \n",
       "3          20170509      F  100000.0         5.0       7.0       bogo     5.0   \n",
       "4          20170509      F  100000.0         NaN       NaN        NaN     NaN   \n",
       "\n",
       "   mobile  social  web  \n",
       "0     1.0     0.0  1.0  \n",
       "1     1.0     0.0  1.0  \n",
       "2     NaN     NaN  NaN  \n",
       "3     1.0     0.0  1.0  \n",
       "4     NaN     NaN  NaN  "
      ]
     },
     "execution_count": 40,
     "metadata": {},
     "output_type": "execute_result"
    }
   ],
   "source": [
    "df.head()"
   ]
  },
  {
   "cell_type": "code",
   "execution_count": 41,
   "metadata": {},
   "outputs": [
    {
     "data": {
      "text/plain": [
       "array([  0.,  nan,   2.,   3.,   4.,   5.,   6.,   7.,   8.,   9.,  10.])"
      ]
     },
     "execution_count": 41,
     "metadata": {},
     "output_type": "execute_result"
    }
   ],
   "source": [
    "df['offer_id'].unique()"
   ]
  },
  {
   "cell_type": "code",
   "execution_count": 42,
   "metadata": {},
   "outputs": [
    {
     "data": {
      "text/plain": [
       "array(['offer-received', 'offer-viewed', 'transaction', 'offer-completed'], dtype=object)"
      ]
     },
     "execution_count": 42,
     "metadata": {},
     "output_type": "execute_result"
    }
   ],
   "source": [
    "event_ids = df['event'].unique()\n",
    "event_ids"
   ]
  },
  {
   "cell_type": "code",
   "execution_count": 43,
   "metadata": {},
   "outputs": [
    {
     "data": {
      "text/plain": [
       "{0: 'offer-received',\n",
       " 1: 'offer-viewed',\n",
       " 2: 'transaction',\n",
       " 3: 'offer-completed'}"
      ]
     },
     "execution_count": 43,
     "metadata": {},
     "output_type": "execute_result"
    }
   ],
   "source": [
    "event_dict = pd.Series(event_ids).to_dict()\n",
    "event_dict"
   ]
  },
  {
   "cell_type": "code",
   "execution_count": 44,
   "metadata": {},
   "outputs": [
    {
     "data": {
      "text/plain": [
       "{'offer-received': 0,\n",
       " 'offer-viewed': 1,\n",
       " 'transaction': 2,\n",
       " 'offer-completed': 3}"
      ]
     },
     "execution_count": 44,
     "metadata": {},
     "output_type": "execute_result"
    }
   ],
   "source": [
    "event_dict = dict([(value, key) for key, value in event_dict.items()]) \n",
    "event_dict"
   ]
  },
  {
   "cell_type": "code",
   "execution_count": 45,
   "metadata": {},
   "outputs": [],
   "source": [
    "#map event_ids to the encoded event ids\n",
    "df['event_id'] = df['event'].map(event_dict)"
   ]
  },
  {
   "cell_type": "code",
   "execution_count": 46,
   "metadata": {},
   "outputs": [
    {
     "data": {
      "text/html": [
       "<div>\n",
       "<style scoped>\n",
       "    .dataframe tbody tr th:only-of-type {\n",
       "        vertical-align: middle;\n",
       "    }\n",
       "\n",
       "    .dataframe tbody tr th {\n",
       "        vertical-align: top;\n",
       "    }\n",
       "\n",
       "    .dataframe thead th {\n",
       "        text-align: right;\n",
       "    }\n",
       "</style>\n",
       "<table border=\"1\" class=\"dataframe\">\n",
       "  <thead>\n",
       "    <tr style=\"text-align: right;\">\n",
       "      <th></th>\n",
       "      <th>event</th>\n",
       "      <th>customer_id</th>\n",
       "      <th>time</th>\n",
       "      <th>offer-completed</th>\n",
       "      <th>offer-received</th>\n",
       "      <th>offer-viewed</th>\n",
       "      <th>transaction</th>\n",
       "      <th>offer_id</th>\n",
       "      <th>amount</th>\n",
       "      <th>age</th>\n",
       "      <th>...</th>\n",
       "      <th>gender</th>\n",
       "      <th>income</th>\n",
       "      <th>difficulty</th>\n",
       "      <th>duration</th>\n",
       "      <th>offer_type</th>\n",
       "      <th>reward</th>\n",
       "      <th>mobile</th>\n",
       "      <th>social</th>\n",
       "      <th>web</th>\n",
       "      <th>event_id</th>\n",
       "    </tr>\n",
       "  </thead>\n",
       "  <tbody>\n",
       "    <tr>\n",
       "      <th>0</th>\n",
       "      <td>offer-received</td>\n",
       "      <td>78afa995795e4d85b5d9ceeca43f5fef</td>\n",
       "      <td>0</td>\n",
       "      <td>0</td>\n",
       "      <td>1</td>\n",
       "      <td>0</td>\n",
       "      <td>0</td>\n",
       "      <td>0.0</td>\n",
       "      <td>NaN</td>\n",
       "      <td>75</td>\n",
       "      <td>...</td>\n",
       "      <td>F</td>\n",
       "      <td>100000.0</td>\n",
       "      <td>5.0</td>\n",
       "      <td>7.0</td>\n",
       "      <td>bogo</td>\n",
       "      <td>5.0</td>\n",
       "      <td>1.0</td>\n",
       "      <td>0.0</td>\n",
       "      <td>1.0</td>\n",
       "      <td>0</td>\n",
       "    </tr>\n",
       "    <tr>\n",
       "      <th>1</th>\n",
       "      <td>offer-viewed</td>\n",
       "      <td>78afa995795e4d85b5d9ceeca43f5fef</td>\n",
       "      <td>6</td>\n",
       "      <td>0</td>\n",
       "      <td>0</td>\n",
       "      <td>1</td>\n",
       "      <td>0</td>\n",
       "      <td>0.0</td>\n",
       "      <td>NaN</td>\n",
       "      <td>75</td>\n",
       "      <td>...</td>\n",
       "      <td>F</td>\n",
       "      <td>100000.0</td>\n",
       "      <td>5.0</td>\n",
       "      <td>7.0</td>\n",
       "      <td>bogo</td>\n",
       "      <td>5.0</td>\n",
       "      <td>1.0</td>\n",
       "      <td>0.0</td>\n",
       "      <td>1.0</td>\n",
       "      <td>1</td>\n",
       "    </tr>\n",
       "    <tr>\n",
       "      <th>2</th>\n",
       "      <td>transaction</td>\n",
       "      <td>78afa995795e4d85b5d9ceeca43f5fef</td>\n",
       "      <td>132</td>\n",
       "      <td>0</td>\n",
       "      <td>0</td>\n",
       "      <td>0</td>\n",
       "      <td>1</td>\n",
       "      <td>NaN</td>\n",
       "      <td>19.89</td>\n",
       "      <td>75</td>\n",
       "      <td>...</td>\n",
       "      <td>F</td>\n",
       "      <td>100000.0</td>\n",
       "      <td>NaN</td>\n",
       "      <td>NaN</td>\n",
       "      <td>NaN</td>\n",
       "      <td>NaN</td>\n",
       "      <td>NaN</td>\n",
       "      <td>NaN</td>\n",
       "      <td>NaN</td>\n",
       "      <td>2</td>\n",
       "    </tr>\n",
       "    <tr>\n",
       "      <th>3</th>\n",
       "      <td>offer-completed</td>\n",
       "      <td>78afa995795e4d85b5d9ceeca43f5fef</td>\n",
       "      <td>132</td>\n",
       "      <td>1</td>\n",
       "      <td>0</td>\n",
       "      <td>0</td>\n",
       "      <td>0</td>\n",
       "      <td>0.0</td>\n",
       "      <td>NaN</td>\n",
       "      <td>75</td>\n",
       "      <td>...</td>\n",
       "      <td>F</td>\n",
       "      <td>100000.0</td>\n",
       "      <td>5.0</td>\n",
       "      <td>7.0</td>\n",
       "      <td>bogo</td>\n",
       "      <td>5.0</td>\n",
       "      <td>1.0</td>\n",
       "      <td>0.0</td>\n",
       "      <td>1.0</td>\n",
       "      <td>3</td>\n",
       "    </tr>\n",
       "    <tr>\n",
       "      <th>4</th>\n",
       "      <td>transaction</td>\n",
       "      <td>78afa995795e4d85b5d9ceeca43f5fef</td>\n",
       "      <td>144</td>\n",
       "      <td>0</td>\n",
       "      <td>0</td>\n",
       "      <td>0</td>\n",
       "      <td>1</td>\n",
       "      <td>NaN</td>\n",
       "      <td>17.78</td>\n",
       "      <td>75</td>\n",
       "      <td>...</td>\n",
       "      <td>F</td>\n",
       "      <td>100000.0</td>\n",
       "      <td>NaN</td>\n",
       "      <td>NaN</td>\n",
       "      <td>NaN</td>\n",
       "      <td>NaN</td>\n",
       "      <td>NaN</td>\n",
       "      <td>NaN</td>\n",
       "      <td>NaN</td>\n",
       "      <td>2</td>\n",
       "    </tr>\n",
       "  </tbody>\n",
       "</table>\n",
       "<p>5 rows × 21 columns</p>\n",
       "</div>"
      ],
      "text/plain": [
       "             event                       customer_id  time  offer-completed  \\\n",
       "0   offer-received  78afa995795e4d85b5d9ceeca43f5fef     0                0   \n",
       "1     offer-viewed  78afa995795e4d85b5d9ceeca43f5fef     6                0   \n",
       "2      transaction  78afa995795e4d85b5d9ceeca43f5fef   132                0   \n",
       "3  offer-completed  78afa995795e4d85b5d9ceeca43f5fef   132                1   \n",
       "4      transaction  78afa995795e4d85b5d9ceeca43f5fef   144                0   \n",
       "\n",
       "   offer-received  offer-viewed  transaction  offer_id  amount  age    ...     \\\n",
       "0               1             0            0       0.0     NaN   75    ...      \n",
       "1               0             1            0       0.0     NaN   75    ...      \n",
       "2               0             0            1       NaN   19.89   75    ...      \n",
       "3               0             0            0       0.0     NaN   75    ...      \n",
       "4               0             0            1       NaN   17.78   75    ...      \n",
       "\n",
       "   gender    income  difficulty  duration  offer_type reward  mobile  social  \\\n",
       "0       F  100000.0         5.0       7.0        bogo    5.0     1.0     0.0   \n",
       "1       F  100000.0         5.0       7.0        bogo    5.0     1.0     0.0   \n",
       "2       F  100000.0         NaN       NaN         NaN    NaN     NaN     NaN   \n",
       "3       F  100000.0         5.0       7.0        bogo    5.0     1.0     0.0   \n",
       "4       F  100000.0         NaN       NaN         NaN    NaN     NaN     NaN   \n",
       "\n",
       "   web  event_id  \n",
       "0  1.0         0  \n",
       "1  1.0         1  \n",
       "2  NaN         2  \n",
       "3  1.0         3  \n",
       "4  NaN         2  \n",
       "\n",
       "[5 rows x 21 columns]"
      ]
     },
     "execution_count": 46,
     "metadata": {},
     "output_type": "execute_result"
    }
   ],
   "source": [
    "df.head()"
   ]
  },
  {
   "cell_type": "code",
   "execution_count": 47,
   "metadata": {},
   "outputs": [
    {
     "data": {
      "text/plain": [
       "(272762, 21)"
      ]
     },
     "execution_count": 47,
     "metadata": {},
     "output_type": "execute_result"
    }
   ],
   "source": [
    "df.shape"
   ]
  },
  {
   "cell_type": "code",
   "execution_count": 48,
   "metadata": {},
   "outputs": [
    {
     "data": {
      "text/plain": [
       "Index(['event', 'customer_id', 'time', 'offer-completed', 'offer-received',\n",
       "       'offer-viewed', 'transaction', 'offer_id', 'amount', 'age',\n",
       "       'became_member_on', 'gender', 'income', 'difficulty', 'duration',\n",
       "       'offer_type', 'reward', 'mobile', 'social', 'web', 'event_id'],\n",
       "      dtype='object')"
      ]
     },
     "execution_count": 48,
     "metadata": {},
     "output_type": "execute_result"
    }
   ],
   "source": [
    "df.columns"
   ]
  },
  {
   "cell_type": "code",
   "execution_count": 49,
   "metadata": {},
   "outputs": [
    {
     "name": "stdout",
     "output_type": "stream",
     "text": [
      "<class 'pandas.core.frame.DataFrame'>\n",
      "Int64Index: 272762 entries, 0 to 272761\n",
      "Data columns (total 21 columns):\n",
      "event               272762 non-null object\n",
      "customer_id         272762 non-null object\n",
      "time                272762 non-null int64\n",
      "offer-completed     272762 non-null uint8\n",
      "offer-received      272762 non-null uint8\n",
      "offer-viewed        272762 non-null uint8\n",
      "transaction         272762 non-null uint8\n",
      "offer_id            148805 non-null float64\n",
      "amount              123957 non-null float64\n",
      "age                 272762 non-null int64\n",
      "became_member_on    272762 non-null int64\n",
      "gender              272762 non-null object\n",
      "income              272762 non-null float64\n",
      "difficulty          148805 non-null float64\n",
      "duration            148805 non-null float64\n",
      "offer_type          148805 non-null object\n",
      "reward              148805 non-null float64\n",
      "mobile              148805 non-null float64\n",
      "social              148805 non-null float64\n",
      "web                 148805 non-null float64\n",
      "event_id            272762 non-null int64\n",
      "dtypes: float64(9), int64(4), object(4), uint8(4)\n",
      "memory usage: 38.5+ MB\n"
     ]
    }
   ],
   "source": [
    "df.info()"
   ]
  },
  {
   "cell_type": "code",
   "execution_count": 50,
   "metadata": {},
   "outputs": [],
   "source": [
    "df.to_csv('data/data.csv', index=False)"
   ]
  },
  {
   "cell_type": "code",
   "execution_count": 51,
   "metadata": {},
   "outputs": [],
   "source": [
    "data = pd.read_csv('data/data.csv')"
   ]
  },
  {
   "cell_type": "code",
   "execution_count": 52,
   "metadata": {},
   "outputs": [
    {
     "data": {
      "text/plain": [
       "count    272762.000000\n",
       "mean         53.840696\n",
       "std          17.551337\n",
       "min          18.000000\n",
       "25%          41.000000\n",
       "50%          55.000000\n",
       "75%          66.000000\n",
       "max         101.000000\n",
       "Name: age, dtype: float64"
      ]
     },
     "execution_count": 52,
     "metadata": {},
     "output_type": "execute_result"
    }
   ],
   "source": [
    "data.age.describe()"
   ]
  },
  {
   "cell_type": "code",
   "execution_count": 53,
   "metadata": {},
   "outputs": [
    {
     "data": {
      "image/png": "[encoded data removed]",
      "text/plain": [
       "<matplotlib.figure.Figure at 0x7fd6ac678ef0>"
      ]
     },
     "metadata": {
      "needs_background": "light"
     },
     "output_type": "display_data"
    }
   ],
   "source": [
    "data.age.hist(bins = 30)\n",
    "plt.xlabel('Age Group')\n",
    "plt.ylabel('Count')\n",
    "plt.title('Age Group Distribution');"
   ]
  },
  {
   "cell_type": "code",
   "execution_count": 54,
   "metadata": {},
   "outputs": [
    {
     "data": {
      "text/plain": [
       "count    272762.000000\n",
       "mean      64337.000755\n",
       "std       21243.762941\n",
       "min       30000.000000\n",
       "25%       48000.000000\n",
       "50%       62000.000000\n",
       "75%       78000.000000\n",
       "max      120000.000000\n",
       "Name: income, dtype: float64"
      ]
     },
     "execution_count": 54,
     "metadata": {},
     "output_type": "execute_result"
    }
   ],
   "source": [
    "data.income.describe()"
   ]
  },
  {
   "cell_type": "code",
   "execution_count": 55,
   "metadata": {},
   "outputs": [
    {
     "data": {
      "image/png": "[encoded data removed]",
      "text/plain": [
       "<matplotlib.figure.Figure at 0x7fd6ac69d940>"
      ]
     },
     "metadata": {
      "needs_background": "light"
     },
     "output_type": "display_data"
    }
   ],
   "source": [
    "data.income.hist(bins = 30);\n",
    "plt.xlabel('Income Range')\n",
    "plt.ylabel('Count')\n",
    "plt.title('Income Range Distribution');"
   ]
  },
  {
   "cell_type": "code",
   "execution_count": 56,
   "metadata": {},
   "outputs": [
    {
     "data": {
      "text/plain": [
       "M    155690\n",
       "F    113101\n",
       "O      3971\n",
       "Name: gender, dtype: int64"
      ]
     },
     "execution_count": 56,
     "metadata": {},
     "output_type": "execute_result"
    }
   ],
   "source": [
    "data.gender.value_counts()"
   ]
  },
  {
   "cell_type": "code",
   "execution_count": 57,
   "metadata": {},
   "outputs": [
    {
     "data": {
      "text/plain": [
       "(57.079065265689501, 41.465086778950145, 1.4558479553603507)"
      ]
     },
     "execution_count": 57,
     "metadata": {},
     "output_type": "execute_result"
    }
   ],
   "source": [
    "male_proportion  = data.gender.value_counts()[0] / data.shape[0]*100\n",
    "female_proportion = data.gender.value_counts()[1] / data.shape[0]*100\n",
    "others_proportion = data.gender.value_counts()[2] / data.shape[0]*100\n",
    "\n",
    "male_proportion ,female_proportion ,others_proportion"
   ]
  },
  {
   "cell_type": "code",
   "execution_count": 58,
   "metadata": {},
   "outputs": [
    {
     "data": {
      "image/png": "[encoded data removed]",
      "text/plain": [
       "<matplotlib.figure.Figure at 0x7fd6ac657f28>"
      ]
     },
     "metadata": {
      "needs_background": "light"
     },
     "output_type": "display_data"
    }
   ],
   "source": [
    "ax = data.gender.value_counts()\n",
    "ax.plot(kind='bar')\n",
    "plt.ylabel('Number of People')\n",
    "plt.xlabel('Gender')\n",
    "plt.title('Gender Distribution');"
   ]
  },
  {
   "cell_type": "code",
   "execution_count": 59,
   "metadata": {},
   "outputs": [
    {
     "data": {
      "text/plain": [
       "(discount         26664\n",
       " bogo             26537\n",
       " informational    13300\n",
       " Name: offer_type, dtype: int64, bogo             22039\n",
       " discount         18461\n",
       " informational     9360\n",
       " Name: offer_type, dtype: int64, discount    17186\n",
       " bogo        15258\n",
       " Name: offer_type, dtype: int64)"
      ]
     },
     "execution_count": 59,
     "metadata": {},
     "output_type": "execute_result"
    }
   ],
   "source": [
    "offer_received = data[data['offer-received'] == 1].offer_type.value_counts()\n",
    "offer_viewed = data[data['offer-viewed'] == 1].offer_type.value_counts()\n",
    "offer_completed = data[data['offer-completed'] == 1].offer_type.value_counts()\n",
    "\n",
    "offer_received , offer_viewed , offer_completed"
   ]
  },
  {
   "cell_type": "code",
   "execution_count": 60,
   "metadata": {},
   "outputs": [
    {
     "data": {
      "image/png": "[encoded data removed]",
      "text/plain": [
       "<matplotlib.figure.Figure at 0x7fd6ac610a20>"
      ]
     },
     "metadata": {
      "needs_background": "light"
     },
     "output_type": "display_data"
    }
   ],
   "source": [
    "plt.subplot(131)\n",
    "offer_received = data[data['offer-received'] == 1].offer_type.value_counts()\n",
    "offer_received.plot(kind='bar', figsize=(15,5))\n",
    "plt.ylabel('counts')\n",
    "plt.xlabel('Offer Type')\n",
    "plt.title('Offer received with Offer Type ');\n",
    "\n",
    "plt.subplot(132)\n",
    "offer_viewed = data[data['offer-viewed'] == 1].offer_type.value_counts()\n",
    "offer_viewed.plot(kind='bar' , figsize=(15,5))\n",
    "plt.ylabel('counts')\n",
    "plt.xlabel('Offer Type')\n",
    "plt.title('Offer viewed with Offer Type ');\n",
    "\n",
    "plt.subplot(133)\n",
    "offer_completed = data[data['offer-completed'] == 1].offer_type.value_counts()\n",
    "offer_completed.plot(kind='bar' , figsize=(15,5))\n",
    "plt.ylabel('counts')\n",
    "plt.xlabel('Offer Type')\n",
    "plt.title('Offer completed received with Offer Type ');"
   ]
  },
  {
   "cell_type": "code",
   "execution_count": 61,
   "metadata": {},
   "outputs": [
    {
     "data": {
      "text/plain": [
       "(26537, 22039, 15258, 0.83050081018954669, 0.57497079549308516)"
      ]
     },
     "execution_count": 61,
     "metadata": {},
     "output_type": "execute_result"
    }
   ],
   "source": [
    "# For BOGO Offer :\n",
    "\n",
    "R = offer_received[1] \n",
    "V = offer_viewed[0] \n",
    "C = offer_completed[1] \n",
    "\n",
    "view_prop = V/R\n",
    "com_prop = C/R\n",
    "R , V , C , view_prop , com_prop"
   ]
  },
  {
   "cell_type": "code",
   "execution_count": 62,
   "metadata": {},
   "outputs": [
    {
     "data": {
      "text/plain": [
       "(26664, 18461, 17186, 0.69235673567356737, 0.64453945394539458)"
      ]
     },
     "execution_count": 62,
     "metadata": {},
     "output_type": "execute_result"
    }
   ],
   "source": [
    "\n",
    "# For DISCOUNT Offer :\n",
    "\n",
    "R = offer_received[0] \n",
    "V = offer_viewed[1] \n",
    "C = offer_completed[0] \n",
    "\n",
    "view_prop = V/R\n",
    "com_prop = C/R\n",
    "R , V , C , view_prop , com_prop"
   ]
  },
  {
   "cell_type": "code",
   "execution_count": 63,
   "metadata": {},
   "outputs": [
    {
     "data": {
      "text/plain": [
       "(9.0     6726\n",
       " 0.0     6685\n",
       " 3.0     6683\n",
       " 6.0     6657\n",
       " 8.0     6655\n",
       " 7.0     6652\n",
       " 2.0     6643\n",
       " 5.0     6631\n",
       " 10.0    6593\n",
       " 4.0     6576\n",
       " Name: offer_id, dtype: int64, 7.0     6407\n",
       " 8.0     6379\n",
       " 10.0    6329\n",
       " 4.0     6310\n",
       " 3.0     5901\n",
       " 2.0     5873\n",
       " 0.0     3499\n",
       " 6.0     3487\n",
       " 5.0     3460\n",
       " 9.0     2215\n",
       " Name: offer_id, dtype: int64, 7.0     5003\n",
       " 8.0     4886\n",
       " 0.0     4188\n",
       " 4.0     4103\n",
       " 5.0     3911\n",
       " 3.0     3657\n",
       " 9.0     3386\n",
       " 10.0    3310\n",
       " Name: offer_id, dtype: int64)"
      ]
     },
     "execution_count": 63,
     "metadata": {},
     "output_type": "execute_result"
    }
   ],
   "source": [
    "offer_received = data[data['offer-received'] == 1].offer_id.value_counts()\n",
    "offer_viewed = data[data['offer-viewed'] == 1].offer_id.value_counts()\n",
    "offer_completed = data[data['offer-completed'] == 1].offer_id.value_counts()\n",
    "\n",
    "offer_received , offer_viewed , offer_completed"
   ]
  },
  {
   "cell_type": "code",
   "execution_count": 64,
   "metadata": {},
   "outputs": [
    {
     "data": {
      "image/png": "[encoded data removed]",
      "text/plain": [
       "<matplotlib.figure.Figure at 0x7fd6ac4e6198>"
      ]
     },
     "metadata": {
      "needs_background": "light"
     },
     "output_type": "display_data"
    }
   ],
   "source": [
    "plt.subplot(131)\n",
    "offer_received = data[data['offer-received'] == 1].offer_id.value_counts()\n",
    "offer_received.plot(kind='bar', figsize=(15,5))\n",
    "plt.ylabel('counts')\n",
    "plt.xlabel('Offer Id ')\n",
    "plt.title('Offer received with Offer Id ');\n",
    "\n",
    "plt.subplot(132)\n",
    "offer_viewed = data[data['offer-viewed'] == 1].offer_id.value_counts()\n",
    "offer_viewed.plot(kind='bar' , figsize=(15,5))\n",
    "plt.ylabel('counts')\n",
    "plt.xlabel('Offer Id')\n",
    "plt.title('Offer viewed with Offer Id ');\n",
    "\n",
    "plt.subplot(133)\n",
    "offer_completed = data[data['offer-completed'] == 1].offer_id.value_counts()\n",
    "offer_completed.plot(kind='bar' , figsize=(15,5))\n",
    "plt.ylabel('counts')\n",
    "plt.xlabel('Offer Id')\n",
    "plt.title('Offer completed received with Offer Id ');"
   ]
  },
  {
   "cell_type": "code",
   "execution_count": 65,
   "metadata": {},
   "outputs": [
    {
     "data": {
      "text/plain": [
       "customer_id\n",
       "0009655768c64bdeb2e877511632db8f     3\n",
       "0011e0d4e6b944f998e987f904e8c1e5     3\n",
       "0020c2b971eb4e9188eac86d93036a77     4\n",
       "0020ccbbb6d84e358d3414a3ff76cffd     6\n",
       "004b041fbfe44859945daa2c7f79ee64     3\n",
       "004c5799adbf42868b9cff0396190900     8\n",
       "005500a7188546ff8a767329a2f7c76a     8\n",
       "0056df74b63b4298809f0b375a304cf4     3\n",
       "00715b6e55c3431cb56ff7307eb19675     5\n",
       "0082fd87c18f45f2be70dbcbb0fb8aad     5\n",
       "00840a2ca5d2408e982d56544dc14ffd     2\n",
       "00857b24b13f4fe0ad17b605f00357f5     7\n",
       "008d7088107b468893889da0ede0df5c     6\n",
       "0091d2b6a5ea4defaa8393e4e816db60    11\n",
       "0099bf30e4cb4265875266eb3eb25eab     2\n",
       "00a794f62b9a48beb58f8f6c02c2f1a6     5\n",
       "00ae03011f9f49b8a4b3e6d416678b0b     5\n",
       "00aee28bbb3848dd8a31f0c91dc267dd     4\n",
       "00b18b535d6d4f779dea4dc9ac451478     2\n",
       "00b3400e4ff64ee68ce9ada1d0c222f0     2\n",
       "00b3c376db2a4115af3aef34a02f61d6     6\n",
       "00b901d68f8f4fd68075184cd0f772d2     6\n",
       "00bbce6533f44ddeaf4dd32bcab55441     3\n",
       "00bc42a62f884b41a13cc595856cf7c3     3\n",
       "00bc983061d3471e8c8e74d31b7c8b6f     4\n",
       "00c20a9202d5475190b31a24de6fb06d     6\n",
       "00c2f812f4604c8893152a5c6572030e     7\n",
       "00c32a104f0c4065b5b552895fb22e34     2\n",
       "00c5a385c71a4d3db5e9b4e31e430943     4\n",
       "00c6035df45840038a72766c6d27a0db     3\n",
       "                                    ..\n",
       "ff8bb9517a1e4ef18b63eb9f2ba67d9e     4\n",
       "ff8ff8e5d8bb449894bf708924020edc     6\n",
       "ff932c6f8bb641bd816955337d153676    12\n",
       "ff95e0a9cdfd4030958762dadcb11e1a     3\n",
       "ff992fbec53145bbae59a68d025e0458     7\n",
       "ff9beda564da4bab81633fca744037dc     5\n",
       "ff9f73ead16a4f9b9e1a53a27280af92     6\n",
       "ffa81afacde642a3a51a7cd99f8d2cd7     5\n",
       "ffac285a64714aca8efd8d61a5606e84     5\n",
       "ffaecba5bbb14cffb04c2490d18eee7e     7\n",
       "ffb62bee02c14583b9763f8613bcace7     2\n",
       "ffb7fc8ad0594248a49e210ff0217c2d     6\n",
       "ffc60f10c2444740bc2049712bbffe17     5\n",
       "ffc6c9fbe34b4578911dcdf6745b4c74     2\n",
       "ffc77312ccda49fca19506f1cdf44923     5\n",
       "ffc8a38e0972421785b00f80c92c8085     3\n",
       "ffd53e5ba61d41378b66efc00d9f9682     7\n",
       "ffd810f301ad42d6bfe98c4ba6ee4125     2\n",
       "ffda4545e7084ff6aaf01304fb1c1fa6     4\n",
       "ffdefcac307f4ca99ac1ebd51470f106     7\n",
       "ffe5257abf8840b395e1ee6b29894637     5\n",
       "ffeaa02452ef451082a0361c3ca62ef5     3\n",
       "ffed75d3abc64b488982f50ed12878b5     4\n",
       "fff0f0aac6c547b9b263080f09a5586a     2\n",
       "fff29fb549084123bd046dbc5ceb4faa    14\n",
       "fff3ba4757bd42088c044ca26d73817a     3\n",
       "fff7576017104bcc8677a8d63322b5e1     6\n",
       "fff8957ea8b240a6b5e634b6ee8eafcf     2\n",
       "fffad4f4828548d1b5583907f2e9906b     9\n",
       "ffff82501cea40309d5fdd7edcca4a07     3\n",
       "Name: offer-received, Length: 13082, dtype: int64"
      ]
     },
     "execution_count": 65,
     "metadata": {},
     "output_type": "execute_result"
    }
   ],
   "source": [
    "data[data['offer_type']=='bogo'].groupby('customer_id')['offer-received'].count()"
   ]
  },
  {
   "cell_type": "code",
   "execution_count": 66,
   "metadata": {},
   "outputs": [
    {
     "data": {
      "image/png": "[encoded data removed]",
      "text/plain": [
       "<matplotlib.figure.Figure at 0x7fd6ac48d6a0>"
      ]
     },
     "metadata": {
      "needs_background": "light"
     },
     "output_type": "display_data"
    }
   ],
   "source": [
    "data[data['offer_type']=='bogo'].groupby('customer_id')['offer-received'].count().hist();\n",
    "plt.title('BOGO Offer Received by User');"
   ]
  },
  {
   "cell_type": "code",
   "execution_count": 67,
   "metadata": {},
   "outputs": [
    {
     "data": {
      "text/plain": [
       "customer_id\n",
       "0009655768c64bdeb2e877511632db8f    4\n",
       "0011e0d4e6b944f998e987f904e8c1e5    4\n",
       "0020c2b971eb4e9188eac86d93036a77    2\n",
       "0020ccbbb6d84e358d3414a3ff76cffd    2\n",
       "003d66b6608740288d6cc97a6903f4f0    4\n",
       "00426fe3ffde4c6b9cb9ad6d077a13ea    2\n",
       "004b041fbfe44859945daa2c7f79ee64    1\n",
       "0056df74b63b4298809f0b375a304cf4    2\n",
       "00715b6e55c3431cb56ff7307eb19675    1\n",
       "0082fd87c18f45f2be70dbcbb0fb8aad    6\n",
       "00840a2ca5d2408e982d56544dc14ffd    1\n",
       "008d7088107b468893889da0ede0df5c    4\n",
       "00a794f62b9a48beb58f8f6c02c2f1a6    6\n",
       "00ae03011f9f49b8a4b3e6d416678b0b    2\n",
       "00b18b535d6d4f779dea4dc9ac451478    2\n",
       "00b3400e4ff64ee68ce9ada1d0c222f0    3\n",
       "00bbce6533f44ddeaf4dd32bcab55441    2\n",
       "00c5a385c71a4d3db5e9b4e31e430943    2\n",
       "00c6035df45840038a72766c6d27a0db    2\n",
       "00c91f31f5f74e769fa7a359b63e1a9f    3\n",
       "00d6dc87be4146ceb47fcd4baaaf6477    1\n",
       "00d791e20c564add8056498e40eb56cc    2\n",
       "00d91c5919514448bc4f718e4e3f26ab    2\n",
       "00e52682848542c3a6f59b7824e9a5c5    2\n",
       "00e8d701c583461e81cc10053681a12b    2\n",
       "00e9f403afa641889cd034ee7c7ca6e9    4\n",
       "00ee2ca6421c4af0aeca60a1b3e00f6c    2\n",
       "00ee69db83964d6da32f8109b32a1ce7    2\n",
       "00fbb9b5edb94f02afbaf1eb49bb4d7d    2\n",
       "00fdd4416dec40b49180814c0a7c8d76    3\n",
       "                                   ..\n",
       "ff102dbad4c748ba9f476d29c45f7ed7    3\n",
       "ff138957836849ccadfb5b232a3dc1b4    4\n",
       "ff298e06fee240039dfd761a0a2ea25e    3\n",
       "ff35495df493403388a7373862bcf2d5    2\n",
       "ff48bf4b65cf41a29d7086e3f742a73e    2\n",
       "ff4e747db62441979fbbc18d871c42b1    2\n",
       "ff5a8471ac1b4809b190e38ba13a678a    2\n",
       "ff737c250d2343729ade04c4f6eb1001    1\n",
       "ff7fdf82996949ec82d158a02a1d9cca    4\n",
       "ff80a43ecb34439491bd9ae1cff7c5fc    2\n",
       "ff8b6918b14448dd8a80d0dc8154f2a0    2\n",
       "ff8bb9517a1e4ef18b63eb9f2ba67d9e    2\n",
       "ff8ff8e5d8bb449894bf708924020edc    2\n",
       "ff95e0a9cdfd4030958762dadcb11e1a    1\n",
       "ff9beda564da4bab81633fca744037dc    2\n",
       "ffa81afacde642a3a51a7cd99f8d2cd7    1\n",
       "ffaecba5bbb14cffb04c2490d18eee7e    2\n",
       "ffb62bee02c14583b9763f8613bcace7    4\n",
       "ffb7fc8ad0594248a49e210ff0217c2d    3\n",
       "ffc60f10c2444740bc2049712bbffe17    4\n",
       "ffc77312ccda49fca19506f1cdf44923    1\n",
       "ffc8a38e0972421785b00f80c92c8085    1\n",
       "ffd810f301ad42d6bfe98c4ba6ee4125    2\n",
       "ffda4545e7084ff6aaf01304fb1c1fa6    1\n",
       "ffe5257abf8840b395e1ee6b29894637    1\n",
       "ffeaa02452ef451082a0361c3ca62ef5    4\n",
       "fff0f0aac6c547b9b263080f09a5586a    4\n",
       "fff3ba4757bd42088c044ca26d73817a    3\n",
       "fff8957ea8b240a6b5e634b6ee8eafcf    1\n",
       "fffad4f4828548d1b5583907f2e9906b    2\n",
       "Name: offer-viewed, Length: 9200, dtype: int64"
      ]
     },
     "execution_count": 67,
     "metadata": {},
     "output_type": "execute_result"
    }
   ],
   "source": [
    "data[data['offer_type']=='informational'].groupby('customer_id')['offer-viewed'].count()"
   ]
  },
  {
   "cell_type": "code",
   "execution_count": 68,
   "metadata": {},
   "outputs": [
    {
     "data": {
      "image/png": "[encoded data removed]",
      "text/plain": [
       "<matplotlib.figure.Figure at 0x7fd6ac4c0518>"
      ]
     },
     "metadata": {
      "needs_background": "light"
     },
     "output_type": "display_data"
    }
   ],
   "source": [
    "data[data['offer_type']=='informational'].groupby('customer_id')['offer-viewed'].count().hist();\n",
    "plt.title('Informational Offer Received by User');"
   ]
  },
  {
   "cell_type": "code",
   "execution_count": 69,
   "metadata": {},
   "outputs": [
    {
     "data": {
      "text/plain": [
       "customer_id\n",
       "0009655768c64bdeb2e877511632db8f     5\n",
       "0011e0d4e6b944f998e987f904e8c1e5     6\n",
       "0020c2b971eb4e9188eac86d93036a77     5\n",
       "0020ccbbb6d84e358d3414a3ff76cffd     3\n",
       "003d66b6608740288d6cc97a6903f4f0     8\n",
       "00426fe3ffde4c6b9cb9ad6d077a13ea     6\n",
       "004b041fbfe44859945daa2c7f79ee64     3\n",
       "004c5799adbf42868b9cff0396190900     6\n",
       "005500a7188546ff8a767329a2f7c76a     1\n",
       "0056df74b63b4298809f0b375a304cf4     5\n",
       "00715b6e55c3431cb56ff7307eb19675     8\n",
       "00840a2ca5d2408e982d56544dc14ffd     8\n",
       "00857b24b13f4fe0ad17b605f00357f5     1\n",
       "008d7088107b468893889da0ede0df5c     1\n",
       "0091d2b6a5ea4defaa8393e4e816db60     3\n",
       "0099bf30e4cb4265875266eb3eb25eab     8\n",
       "00ae03011f9f49b8a4b3e6d416678b0b     8\n",
       "00aee28bbb3848dd8a31f0c91dc267dd     1\n",
       "00b18b535d6d4f779dea4dc9ac451478     9\n",
       "00b3400e4ff64ee68ce9ada1d0c222f0     5\n",
       "00b3c376db2a4115af3aef34a02f61d6     2\n",
       "00b901d68f8f4fd68075184cd0f772d2     2\n",
       "00bbce6533f44ddeaf4dd32bcab55441     6\n",
       "00bc42a62f884b41a13cc595856cf7c3    11\n",
       "00bc983061d3471e8c8e74d31b7c8b6f     3\n",
       "00c20a9202d5475190b31a24de6fb06d     6\n",
       "00c2f812f4604c8893152a5c6572030e     5\n",
       "00c32a104f0c4065b5b552895fb22e34     5\n",
       "00c5a385c71a4d3db5e9b4e31e430943     4\n",
       "00c6035df45840038a72766c6d27a0db     6\n",
       "                                    ..\n",
       "ff7cc9b97c7744cfbc31bb020ea8d07e     8\n",
       "ff7fdf82996949ec82d158a02a1d9cca     3\n",
       "ff80a43ecb34439491bd9ae1cff7c5fc     9\n",
       "ff8b6918b14448dd8a80d0dc8154f2a0     3\n",
       "ff8bb9517a1e4ef18b63eb9f2ba67d9e     4\n",
       "ff8bee9ba3754ac687d9af685b2981b7     6\n",
       "ff8ff8e5d8bb449894bf708924020edc     6\n",
       "ff932c6f8bb641bd816955337d153676     6\n",
       "ff95e0a9cdfd4030958762dadcb11e1a     4\n",
       "ff992fbec53145bbae59a68d025e0458     9\n",
       "ff9beda564da4bab81633fca744037dc     5\n",
       "ff9f73ead16a4f9b9e1a53a27280af92     5\n",
       "ffa81afacde642a3a51a7cd99f8d2cd7     5\n",
       "ffaecba5bbb14cffb04c2490d18eee7e     6\n",
       "ffb62bee02c14583b9763f8613bcace7     2\n",
       "ffb7fc8ad0594248a49e210ff0217c2d     5\n",
       "ffc6c9fbe34b4578911dcdf6745b4c74     3\n",
       "ffc77312ccda49fca19506f1cdf44923     1\n",
       "ffc8a38e0972421785b00f80c92c8085     3\n",
       "ffd53e5ba61d41378b66efc00d9f9682     5\n",
       "ffd810f301ad42d6bfe98c4ba6ee4125     2\n",
       "ffda4545e7084ff6aaf01304fb1c1fa6     5\n",
       "ffdefcac307f4ca99ac1ebd51470f106     5\n",
       "ffe5257abf8840b395e1ee6b29894637     5\n",
       "ffeaa02452ef451082a0361c3ca62ef5     6\n",
       "fff29fb549084123bd046dbc5ceb4faa     3\n",
       "fff3ba4757bd42088c044ca26d73817a     6\n",
       "fff7576017104bcc8677a8d63322b5e1     6\n",
       "fff8957ea8b240a6b5e634b6ee8eafcf     2\n",
       "ffff82501cea40309d5fdd7edcca4a07    15\n",
       "Name: offer-completed, Length: 13042, dtype: int64"
      ]
     },
     "execution_count": 69,
     "metadata": {},
     "output_type": "execute_result"
    }
   ],
   "source": [
    "data[data['offer_type']=='discount'].groupby('customer_id')['offer-completed'].count()"
   ]
  },
  {
   "cell_type": "code",
   "execution_count": 70,
   "metadata": {},
   "outputs": [
    {
     "data": {
      "image/png": "[encoded data removed]",
      "text/plain": [
       "<matplotlib.figure.Figure at 0x7fd6ac4d4b70>"
      ]
     },
     "metadata": {
      "needs_background": "light"
     },
     "output_type": "display_data"
    }
   ],
   "source": [
    "data[data['offer_type']=='discount'].groupby('customer_id')['offer-completed'].count().hist();\n",
    "plt.title('Discount Offer Received by User');"
   ]
  },
  {
   "cell_type": "code",
   "execution_count": 71,
   "metadata": {},
   "outputs": [],
   "source": [
    "genders = {'O': 0, 'M': 1, 'F': 2}\n",
    "data['gender'] = data['gender'].map(genders)"
   ]
  },
  {
   "cell_type": "code",
   "execution_count": 72,
   "metadata": {},
   "outputs": [
    {
     "data": {
      "text/plain": [
       "bogo             63834\n",
       "discount         62311\n",
       "informational    22660\n",
       "Name: offer_type, dtype: int64"
      ]
     },
     "execution_count": 72,
     "metadata": {},
     "output_type": "execute_result"
    }
   ],
   "source": [
    "data.offer_type.value_counts()"
   ]
  },
  {
   "cell_type": "code",
   "execution_count": 73,
   "metadata": {},
   "outputs": [],
   "source": [
    "offers = {'bogo': 0, 'discount': 1, 'informational': 2}\n",
    "data['offer_type'] = data['offer_type'].map(offers)"
   ]
  },
  {
   "cell_type": "code",
   "execution_count": 74,
   "metadata": {},
   "outputs": [
    {
     "data": {
      "text/html": [
       "<div>\n",
       "<style scoped>\n",
       "    .dataframe tbody tr th:only-of-type {\n",
       "        vertical-align: middle;\n",
       "    }\n",
       "\n",
       "    .dataframe tbody tr th {\n",
       "        vertical-align: top;\n",
       "    }\n",
       "\n",
       "    .dataframe thead th {\n",
       "        text-align: right;\n",
       "    }\n",
       "</style>\n",
       "<table border=\"1\" class=\"dataframe\">\n",
       "  <thead>\n",
       "    <tr style=\"text-align: right;\">\n",
       "      <th></th>\n",
       "      <th>event</th>\n",
       "      <th>customer_id</th>\n",
       "      <th>time</th>\n",
       "      <th>offer-completed</th>\n",
       "      <th>offer-received</th>\n",
       "      <th>offer-viewed</th>\n",
       "      <th>transaction</th>\n",
       "      <th>offer_id</th>\n",
       "      <th>amount</th>\n",
       "      <th>age</th>\n",
       "      <th>...</th>\n",
       "      <th>gender</th>\n",
       "      <th>income</th>\n",
       "      <th>difficulty</th>\n",
       "      <th>duration</th>\n",
       "      <th>offer_type</th>\n",
       "      <th>reward</th>\n",
       "      <th>mobile</th>\n",
       "      <th>social</th>\n",
       "      <th>web</th>\n",
       "      <th>event_id</th>\n",
       "    </tr>\n",
       "  </thead>\n",
       "  <tbody>\n",
       "    <tr>\n",
       "      <th>0</th>\n",
       "      <td>offer-received</td>\n",
       "      <td>78afa995795e4d85b5d9ceeca43f5fef</td>\n",
       "      <td>0</td>\n",
       "      <td>0</td>\n",
       "      <td>1</td>\n",
       "      <td>0</td>\n",
       "      <td>0</td>\n",
       "      <td>0.0</td>\n",
       "      <td>NaN</td>\n",
       "      <td>75</td>\n",
       "      <td>...</td>\n",
       "      <td>2</td>\n",
       "      <td>100000.0</td>\n",
       "      <td>5.0</td>\n",
       "      <td>7.0</td>\n",
       "      <td>0.0</td>\n",
       "      <td>5.0</td>\n",
       "      <td>1.0</td>\n",
       "      <td>0.0</td>\n",
       "      <td>1.0</td>\n",
       "      <td>0</td>\n",
       "    </tr>\n",
       "    <tr>\n",
       "      <th>1</th>\n",
       "      <td>offer-viewed</td>\n",
       "      <td>78afa995795e4d85b5d9ceeca43f5fef</td>\n",
       "      <td>6</td>\n",
       "      <td>0</td>\n",
       "      <td>0</td>\n",
       "      <td>1</td>\n",
       "      <td>0</td>\n",
       "      <td>0.0</td>\n",
       "      <td>NaN</td>\n",
       "      <td>75</td>\n",
       "      <td>...</td>\n",
       "      <td>2</td>\n",
       "      <td>100000.0</td>\n",
       "      <td>5.0</td>\n",
       "      <td>7.0</td>\n",
       "      <td>0.0</td>\n",
       "      <td>5.0</td>\n",
       "      <td>1.0</td>\n",
       "      <td>0.0</td>\n",
       "      <td>1.0</td>\n",
       "      <td>1</td>\n",
       "    </tr>\n",
       "    <tr>\n",
       "      <th>2</th>\n",
       "      <td>transaction</td>\n",
       "      <td>78afa995795e4d85b5d9ceeca43f5fef</td>\n",
       "      <td>132</td>\n",
       "      <td>0</td>\n",
       "      <td>0</td>\n",
       "      <td>0</td>\n",
       "      <td>1</td>\n",
       "      <td>NaN</td>\n",
       "      <td>19.89</td>\n",
       "      <td>75</td>\n",
       "      <td>...</td>\n",
       "      <td>2</td>\n",
       "      <td>100000.0</td>\n",
       "      <td>NaN</td>\n",
       "      <td>NaN</td>\n",
       "      <td>NaN</td>\n",
       "      <td>NaN</td>\n",
       "      <td>NaN</td>\n",
       "      <td>NaN</td>\n",
       "      <td>NaN</td>\n",
       "      <td>2</td>\n",
       "    </tr>\n",
       "    <tr>\n",
       "      <th>3</th>\n",
       "      <td>offer-completed</td>\n",
       "      <td>78afa995795e4d85b5d9ceeca43f5fef</td>\n",
       "      <td>132</td>\n",
       "      <td>1</td>\n",
       "      <td>0</td>\n",
       "      <td>0</td>\n",
       "      <td>0</td>\n",
       "      <td>0.0</td>\n",
       "      <td>NaN</td>\n",
       "      <td>75</td>\n",
       "      <td>...</td>\n",
       "      <td>2</td>\n",
       "      <td>100000.0</td>\n",
       "      <td>5.0</td>\n",
       "      <td>7.0</td>\n",
       "      <td>0.0</td>\n",
       "      <td>5.0</td>\n",
       "      <td>1.0</td>\n",
       "      <td>0.0</td>\n",
       "      <td>1.0</td>\n",
       "      <td>3</td>\n",
       "    </tr>\n",
       "    <tr>\n",
       "      <th>4</th>\n",
       "      <td>transaction</td>\n",
       "      <td>78afa995795e4d85b5d9ceeca43f5fef</td>\n",
       "      <td>144</td>\n",
       "      <td>0</td>\n",
       "      <td>0</td>\n",
       "      <td>0</td>\n",
       "      <td>1</td>\n",
       "      <td>NaN</td>\n",
       "      <td>17.78</td>\n",
       "      <td>75</td>\n",
       "      <td>...</td>\n",
       "      <td>2</td>\n",
       "      <td>100000.0</td>\n",
       "      <td>NaN</td>\n",
       "      <td>NaN</td>\n",
       "      <td>NaN</td>\n",
       "      <td>NaN</td>\n",
       "      <td>NaN</td>\n",
       "      <td>NaN</td>\n",
       "      <td>NaN</td>\n",
       "      <td>2</td>\n",
       "    </tr>\n",
       "  </tbody>\n",
       "</table>\n",
       "<p>5 rows × 21 columns</p>\n",
       "</div>"
      ],
      "text/plain": [
       "             event                       customer_id  time  offer-completed  \\\n",
       "0   offer-received  78afa995795e4d85b5d9ceeca43f5fef     0                0   \n",
       "1     offer-viewed  78afa995795e4d85b5d9ceeca43f5fef     6                0   \n",
       "2      transaction  78afa995795e4d85b5d9ceeca43f5fef   132                0   \n",
       "3  offer-completed  78afa995795e4d85b5d9ceeca43f5fef   132                1   \n",
       "4      transaction  78afa995795e4d85b5d9ceeca43f5fef   144                0   \n",
       "\n",
       "   offer-received  offer-viewed  transaction  offer_id  amount  age    ...     \\\n",
       "0               1             0            0       0.0     NaN   75    ...      \n",
       "1               0             1            0       0.0     NaN   75    ...      \n",
       "2               0             0            1       NaN   19.89   75    ...      \n",
       "3               0             0            0       0.0     NaN   75    ...      \n",
       "4               0             0            1       NaN   17.78   75    ...      \n",
       "\n",
       "   gender    income  difficulty  duration  offer_type  reward  mobile  social  \\\n",
       "0       2  100000.0         5.0       7.0         0.0     5.0     1.0     0.0   \n",
       "1       2  100000.0         5.0       7.0         0.0     5.0     1.0     0.0   \n",
       "2       2  100000.0         NaN       NaN         NaN     NaN     NaN     NaN   \n",
       "3       2  100000.0         5.0       7.0         0.0     5.0     1.0     0.0   \n",
       "4       2  100000.0         NaN       NaN         NaN     NaN     NaN     NaN   \n",
       "\n",
       "   web  event_id  \n",
       "0  1.0         0  \n",
       "1  1.0         1  \n",
       "2  NaN         2  \n",
       "3  1.0         3  \n",
       "4  NaN         2  \n",
       "\n",
       "[5 rows x 21 columns]"
      ]
     },
     "execution_count": 74,
     "metadata": {},
     "output_type": "execute_result"
    }
   ],
   "source": [
    "data.head()"
   ]
  },
  {
   "cell_type": "code",
   "execution_count": 75,
   "metadata": {},
   "outputs": [
    {
     "data": {
      "text/plain": [
       "Index(['event', 'customer_id', 'time', 'offer-completed', 'offer-received',\n",
       "       'offer-viewed', 'transaction', 'offer_id', 'amount', 'age',\n",
       "       'became_member_on', 'gender', 'income', 'difficulty', 'duration',\n",
       "       'offer_type', 'reward', 'mobile', 'social', 'web', 'event_id'],\n",
       "      dtype='object')"
      ]
     },
     "execution_count": 75,
     "metadata": {},
     "output_type": "execute_result"
    }
   ],
   "source": [
    "data.columns"
   ]
  },
  {
   "cell_type": "code",
   "execution_count": 76,
   "metadata": {},
   "outputs": [],
   "source": [
    "X = data.drop(['customer_id', 'event_id' , 'event' , 'became_member_on','offer-completed', 'offer-received',\n",
    "       'offer-viewed', 'transaction'], axis=1)\n",
    "Y = data['event_id']"
   ]
  },
  {
   "cell_type": "code",
   "execution_count": 77,
   "metadata": {},
   "outputs": [
    {
     "data": {
      "text/html": [
       "<div>\n",
       "<style scoped>\n",
       "    .dataframe tbody tr th:only-of-type {\n",
       "        vertical-align: middle;\n",
       "    }\n",
       "\n",
       "    .dataframe tbody tr th {\n",
       "        vertical-align: top;\n",
       "    }\n",
       "\n",
       "    .dataframe thead th {\n",
       "        text-align: right;\n",
       "    }\n",
       "</style>\n",
       "<table border=\"1\" class=\"dataframe\">\n",
       "  <thead>\n",
       "    <tr style=\"text-align: right;\">\n",
       "      <th></th>\n",
       "      <th>time</th>\n",
       "      <th>offer_id</th>\n",
       "      <th>amount</th>\n",
       "      <th>age</th>\n",
       "      <th>gender</th>\n",
       "      <th>income</th>\n",
       "      <th>difficulty</th>\n",
       "      <th>duration</th>\n",
       "      <th>offer_type</th>\n",
       "      <th>reward</th>\n",
       "      <th>mobile</th>\n",
       "      <th>social</th>\n",
       "      <th>web</th>\n",
       "    </tr>\n",
       "  </thead>\n",
       "  <tbody>\n",
       "    <tr>\n",
       "      <th>0</th>\n",
       "      <td>0</td>\n",
       "      <td>0.0</td>\n",
       "      <td>NaN</td>\n",
       "      <td>75</td>\n",
       "      <td>2</td>\n",
       "      <td>100000.0</td>\n",
       "      <td>5.0</td>\n",
       "      <td>7.0</td>\n",
       "      <td>0.0</td>\n",
       "      <td>5.0</td>\n",
       "      <td>1.0</td>\n",
       "      <td>0.0</td>\n",
       "      <td>1.0</td>\n",
       "    </tr>\n",
       "    <tr>\n",
       "      <th>1</th>\n",
       "      <td>6</td>\n",
       "      <td>0.0</td>\n",
       "      <td>NaN</td>\n",
       "      <td>75</td>\n",
       "      <td>2</td>\n",
       "      <td>100000.0</td>\n",
       "      <td>5.0</td>\n",
       "      <td>7.0</td>\n",
       "      <td>0.0</td>\n",
       "      <td>5.0</td>\n",
       "      <td>1.0</td>\n",
       "      <td>0.0</td>\n",
       "      <td>1.0</td>\n",
       "    </tr>\n",
       "    <tr>\n",
       "      <th>2</th>\n",
       "      <td>132</td>\n",
       "      <td>NaN</td>\n",
       "      <td>19.89</td>\n",
       "      <td>75</td>\n",
       "      <td>2</td>\n",
       "      <td>100000.0</td>\n",
       "      <td>NaN</td>\n",
       "      <td>NaN</td>\n",
       "      <td>NaN</td>\n",
       "      <td>NaN</td>\n",
       "      <td>NaN</td>\n",
       "      <td>NaN</td>\n",
       "      <td>NaN</td>\n",
       "    </tr>\n",
       "    <tr>\n",
       "      <th>3</th>\n",
       "      <td>132</td>\n",
       "      <td>0.0</td>\n",
       "      <td>NaN</td>\n",
       "      <td>75</td>\n",
       "      <td>2</td>\n",
       "      <td>100000.0</td>\n",
       "      <td>5.0</td>\n",
       "      <td>7.0</td>\n",
       "      <td>0.0</td>\n",
       "      <td>5.0</td>\n",
       "      <td>1.0</td>\n",
       "      <td>0.0</td>\n",
       "      <td>1.0</td>\n",
       "    </tr>\n",
       "    <tr>\n",
       "      <th>4</th>\n",
       "      <td>144</td>\n",
       "      <td>NaN</td>\n",
       "      <td>17.78</td>\n",
       "      <td>75</td>\n",
       "      <td>2</td>\n",
       "      <td>100000.0</td>\n",
       "      <td>NaN</td>\n",
       "      <td>NaN</td>\n",
       "      <td>NaN</td>\n",
       "      <td>NaN</td>\n",
       "      <td>NaN</td>\n",
       "      <td>NaN</td>\n",
       "      <td>NaN</td>\n",
       "    </tr>\n",
       "  </tbody>\n",
       "</table>\n",
       "</div>"
      ],
      "text/plain": [
       "   time  offer_id  amount  age  gender    income  difficulty  duration  \\\n",
       "0     0       0.0     NaN   75       2  100000.0         5.0       7.0   \n",
       "1     6       0.0     NaN   75       2  100000.0         5.0       7.0   \n",
       "2   132       NaN   19.89   75       2  100000.0         NaN       NaN   \n",
       "3   132       0.0     NaN   75       2  100000.0         5.0       7.0   \n",
       "4   144       NaN   17.78   75       2  100000.0         NaN       NaN   \n",
       "\n",
       "   offer_type  reward  mobile  social  web  \n",
       "0         0.0     5.0     1.0     0.0  1.0  \n",
       "1         0.0     5.0     1.0     0.0  1.0  \n",
       "2         NaN     NaN     NaN     NaN  NaN  \n",
       "3         0.0     5.0     1.0     0.0  1.0  \n",
       "4         NaN     NaN     NaN     NaN  NaN  "
      ]
     },
     "execution_count": 77,
     "metadata": {},
     "output_type": "execute_result"
    }
   ],
   "source": [
    "X.head()"
   ]
  },
  {
   "cell_type": "code",
   "execution_count": 78,
   "metadata": {},
   "outputs": [
    {
     "data": {
      "text/plain": [
       "0    0\n",
       "1    1\n",
       "2    2\n",
       "3    3\n",
       "4    2\n",
       "Name: event_id, dtype: int64"
      ]
     },
     "execution_count": 78,
     "metadata": {},
     "output_type": "execute_result"
    }
   ],
   "source": [
    "Y.head()"
   ]
  },
  {
   "cell_type": "code",
   "execution_count": 79,
   "metadata": {},
   "outputs": [
    {
     "data": {
      "text/plain": [
       "((272762, 13), (272762,))"
      ]
     },
     "execution_count": 79,
     "metadata": {},
     "output_type": "execute_result"
    }
   ],
   "source": [
    "X.shape , Y.shape"
   ]
  },
  {
   "cell_type": "code",
   "execution_count": 80,
   "metadata": {},
   "outputs": [],
   "source": [
    "class_name =['offer recieved', 'offer viewed', 'transaction', 'offer completed']"
   ]
  },
  {
   "cell_type": "code",
   "execution_count": 81,
   "metadata": {},
   "outputs": [],
   "source": [
    "#split the dataset into test and train sets.\n",
    "X_train, X_test, y_train, y_test = train_test_split(X, Y, test_size=0.3, random_state=42)"
   ]
  },
  {
   "cell_type": "code",
   "execution_count": 82,
   "metadata": {},
   "outputs": [
    {
     "data": {
      "text/plain": [
       "((190933, 13), (81829, 13), (190933,), (81829,))"
      ]
     },
     "execution_count": 82,
     "metadata": {},
     "output_type": "execute_result"
    }
   ],
   "source": [
    "X_train.shape, X_test.shape, y_train.shape, y_test.shape"
   ]
  },
  {
   "cell_type": "code",
   "execution_count": 83,
   "metadata": {},
   "outputs": [],
   "source": [
    "std = StandardScaler()"
   ]
  },
  {
   "cell_type": "code",
   "execution_count": 84,
   "metadata": {},
   "outputs": [
    {
     "name": "stderr",
     "output_type": "stream",
     "text": [
      "/opt/conda/lib/python3.6/site-packages/pandas/core/generic.py:4405: SettingWithCopyWarning: \n",
      "A value is trying to be set on a copy of a slice from a DataFrame.\n",
      "Try using .loc[row_indexer,col_indexer] = value instead\n",
      "\n",
      "See the caveats in the documentation: http://pandas.pydata.org/pandas-docs/stable/indexing.html#indexing-view-versus-copy\n",
      "  self[name] = value\n",
      "/opt/conda/lib/python3.6/site-packages/sklearn/utils/validation.py:475: DataConversionWarning: Data with input dtype int64 was converted to float64 by StandardScaler.\n",
      "  warnings.warn(msg, DataConversionWarning)\n"
     ]
    }
   ],
   "source": [
    "X_train.income = std.fit_transform(X_train.income.values.reshape(-1, 1))\n",
    "X_train.age = std.fit_transform(X_train.age.values.reshape(-1, 1))\n",
    "\n",
    "X_train.reset_index(inplace=True)\n",
    "X_train = X_train.drop(['index'], axis=1)"
   ]
  },
  {
   "cell_type": "code",
   "execution_count": 85,
   "metadata": {},
   "outputs": [
    {
     "name": "stderr",
     "output_type": "stream",
     "text": [
      "/opt/conda/lib/python3.6/site-packages/pandas/core/generic.py:4405: SettingWithCopyWarning: \n",
      "A value is trying to be set on a copy of a slice from a DataFrame.\n",
      "Try using .loc[row_indexer,col_indexer] = value instead\n",
      "\n",
      "See the caveats in the documentation: http://pandas.pydata.org/pandas-docs/stable/indexing.html#indexing-view-versus-copy\n",
      "  self[name] = value\n",
      "/opt/conda/lib/python3.6/site-packages/sklearn/utils/validation.py:475: DataConversionWarning: Data with input dtype int64 was converted to float64 by StandardScaler.\n",
      "  warnings.warn(msg, DataConversionWarning)\n"
     ]
    }
   ],
   "source": [
    "X_test.income = std.transform(X_test.income.values.reshape(-1, 1))\n",
    "X_test.age = std.fit_transform(X_test.age.values.reshape(-1, 1))\n",
    "\n",
    "X_test.reset_index(inplace=True)\n",
    "X_test = X_test.drop(['index'], axis=1)"
   ]
  },
  {
   "cell_type": "code",
   "execution_count": 86,
   "metadata": {},
   "outputs": [
    {
     "data": {
      "text/plain": [
       "((190933, 13), (81829, 13))"
      ]
     },
     "execution_count": 86,
     "metadata": {},
     "output_type": "execute_result"
    }
   ],
   "source": [
    "X_train.shape, X_test.shape"
   ]
  },
  {
   "cell_type": "code",
   "execution_count": 87,
   "metadata": {},
   "outputs": [],
   "source": [
    "X_train = X_train.values\n",
    "X_test = X_test.values\n",
    "y_train = y_train.values\n",
    "y_test = y_test.values"
   ]
  },
  {
   "cell_type": "code",
   "execution_count": 88,
   "metadata": {},
   "outputs": [],
   "source": [
    "# Add these two lines to reshape the data\n",
    "X_train = np.reshape(X_train, (X_train.shape[0], -1))\n",
    "X_test = np.reshape(X_test, (X_test.shape[0], -1))"
   ]
  },
  {
   "cell_type": "code",
   "execution_count": 89,
   "metadata": {},
   "outputs": [],
   "source": [
    "import tensorflow.contrib.keras as keras\n",
    "from tensorflow.contrib.keras.python.keras.models import Sequential"
   ]
  },
  {
   "cell_type": "code",
   "execution_count": 90,
   "metadata": {},
   "outputs": [],
   "source": [
    "ann = keras.models.Sequential()"
   ]
  },
  {
   "cell_type": "code",
   "execution_count": 92,
   "metadata": {},
   "outputs": [],
   "source": [
    "ann.add(keras.layers.Dense(6, activation='relu', input_dim=X_train.shape[1]))\n",
    "ann.add(keras.layers.Dense(6, activation='relu'))\n",
    "ann.add(keras.layers.Dense(4, activation='softmax'))"
   ]
  },
  {
   "cell_type": "code",
   "execution_count": 93,
   "metadata": {},
   "outputs": [],
   "source": [
    "ann.compile(optimizer = 'adam', \n",
    "            loss = 'sparse_categorical_crossentropy', \n",
    "            metrics = ['accuracy'])"
   ]
  },
  {
   "cell_type": "code",
   "execution_count": 94,
   "metadata": {},
   "outputs": [
    {
     "name": "stdout",
     "output_type": "stream",
     "text": [
      "Train on 190933 samples, validate on 81829 samples\n",
      "Epoch 1/15\n",
      "190933/190933 [==============================] - 3s - loss: nan - acc: 0.2434 - val_loss: nan - val_acc: 0.2448\n",
      "Epoch 2/15\n",
      "190933/190933 [==============================] - 2s - loss: nan - acc: 0.2434 - val_loss: nan - val_acc: 0.2448\n",
      "Epoch 3/15\n",
      "190933/190933 [==============================] - 2s - loss: nan - acc: 0.2434 - val_loss: nan - val_acc: 0.2448\n",
      "Epoch 4/15\n",
      "190933/190933 [==============================] - 2s - loss: nan - acc: 0.2434 - val_loss: nan - val_acc: 0.2448\n",
      "Epoch 5/15\n",
      "190933/190933 [==============================] - 2s - loss: nan - acc: 0.2434 - val_loss: nan - val_acc: 0.2448\n",
      "Epoch 6/15\n",
      "190933/190933 [==============================] - 3s - loss: nan - acc: 0.2434 - val_loss: nan - val_acc: 0.2448\n",
      "Epoch 7/15\n",
      "190933/190933 [==============================] - 2s - loss: nan - acc: 0.2434 - val_loss: nan - val_acc: 0.2448\n",
      "Epoch 8/15\n",
      "190933/190933 [==============================] - 2s - loss: nan - acc: 0.2434 - val_loss: nan - val_acc: 0.2448\n",
      "Epoch 9/15\n",
      "190933/190933 [==============================] - 2s - loss: nan - acc: 0.2434 - val_loss: nan - val_acc: 0.2448\n",
      "Epoch 10/15\n",
      "190933/190933 [==============================] - 2s - loss: nan - acc: 0.2434 - val_loss: nan - val_acc: 0.2448\n",
      "Epoch 11/15\n",
      "190933/190933 [==============================] - 2s - loss: nan - acc: 0.2434 - val_loss: nan - val_acc: 0.2448\n",
      "Epoch 12/15\n",
      "190933/190933 [==============================] - 2s - loss: nan - acc: 0.2434 - val_loss: nan - val_acc: 0.2448\n",
      "Epoch 13/15\n",
      "190933/190933 [==============================] - 3s - loss: nan - acc: 0.2434 - val_loss: nan - val_acc: 0.2448\n",
      "Epoch 14/15\n",
      "190933/190933 [==============================] - 2s - loss: nan - acc: 0.2434 - val_loss: nan - val_acc: 0.2448\n",
      "Epoch 15/15\n",
      "190933/190933 [==============================] - 2s - loss: nan - acc: 0.2434 - val_loss: nan - val_acc: 0.2448\n"
     ]
    }
   ],
   "source": [
    "ann_history = ann.fit(X_train, y_train, validation_data=(X_test, y_test), epochs=15, batch_size=100)"
   ]
  },
  {
   "cell_type": "code",
   "execution_count": 95,
   "metadata": {},
   "outputs": [
    {
     "name": "stdout",
     "output_type": "stream",
     "text": [
      "_________________________________________________________________\n",
      "Layer (type)                 Output Shape              Param #   \n",
      "=================================================================\n",
      "dense_2 (Dense)              (None, 6)                 84        \n",
      "_________________________________________________________________\n",
      "dense_3 (Dense)              (None, 6)                 42        \n",
      "_________________________________________________________________\n",
      "dense_4 (Dense)              (None, 4)                 28        \n",
      "=================================================================\n",
      "Total params: 154\n",
      "Trainable params: 154\n",
      "Non-trainable params: 0\n",
      "_________________________________________________________________\n"
     ]
    }
   ],
   "source": [
    "ann.summary()       \n",
    "# Summary of our model"
   ]
  },
  {
   "cell_type": "code",
   "execution_count": 97,
   "metadata": {},
   "outputs": [
    {
     "data": {
      "text/plain": [
       "{'batch_size': 100,\n",
       " 'epochs': 15,\n",
       " 'samples': 190933,\n",
       " 'verbose': 1,\n",
       " 'do_validation': True,\n",
       " 'metrics': ['loss', 'acc', 'val_loss', 'val_acc']}"
      ]
     },
     "execution_count": 97,
     "metadata": {},
     "output_type": "execute_result"
    }
   ],
   "source": [
    "ann_history.params"
   ]
  },
  {
   "cell_type": "code",
   "execution_count": 99,
   "metadata": {},
   "outputs": [
    {
     "data": {
      "image/png": "[encoded data removed]",
      "text/plain": [
       "<matplotlib.figure.Figure at 0x7fd6abf10b70>"
      ]
     },
     "metadata": {
      "needs_background": "light"
     },
     "output_type": "display_data"
    }
   ],
   "source": [
    "pd.DataFrame(ann_history.history).plot(figsize=(8,5))\n",
    "plt.grid(True)\n",
    "plt.gca().set_ylim(0,1)               # Y AXIS RANGE LIMIT \n",
    "plt.show()"
   ]
  },
  {
   "cell_type": "code",
   "execution_count": 100,
   "metadata": {},
   "outputs": [
    {
     "name": "stdout",
     "output_type": "stream",
     "text": [
      "80128/81829 [============================>.] - ETA: 0s"
     ]
    },
    {
     "data": {
      "text/plain": [
       "[nan, 0.2448154077419889]"
      ]
     },
     "execution_count": 100,
     "metadata": {},
     "output_type": "execute_result"
    }
   ],
   "source": [
    "ann.evaluate(X_test , y_test)"
   ]
  },
  {
   "cell_type": "code",
   "execution_count": 101,
   "metadata": {},
   "outputs": [
    {
     "data": {
      "text/plain": [
       "Index(['event', 'customer_id', 'time', 'offer-completed', 'offer-received',\n",
       "       'offer-viewed', 'transaction', 'offer_id', 'amount', 'age',\n",
       "       'became_member_on', 'gender', 'income', 'difficulty', 'duration',\n",
       "       'offer_type', 'reward', 'mobile', 'social', 'web', 'event_id'],\n",
       "      dtype='object')"
      ]
     },
     "execution_count": 101,
     "metadata": {},
     "output_type": "execute_result"
    }
   ],
   "source": [
    "data.columns"
   ]
  },
  {
   "cell_type": "code",
   "execution_count": 103,
   "metadata": {},
   "outputs": [],
   "source": [
    "X = data.drop(['customer_id', 'event_id' ,  'amount','event' , 'became_member_on','offer-completed', 'offer-received',\n",
    "       'offer-viewed', 'mobile', 'social', 'web', 'time','transaction', 'duration'], axis=1)\n",
    "Y = data['event_id']"
   ]
  },
  {
   "cell_type": "code",
   "execution_count": 104,
   "metadata": {},
   "outputs": [
    {
     "data": {
      "text/html": [
       "<div>\n",
       "<style scoped>\n",
       "    .dataframe tbody tr th:only-of-type {\n",
       "        vertical-align: middle;\n",
       "    }\n",
       "\n",
       "    .dataframe tbody tr th {\n",
       "        vertical-align: top;\n",
       "    }\n",
       "\n",
       "    .dataframe thead th {\n",
       "        text-align: right;\n",
       "    }\n",
       "</style>\n",
       "<table border=\"1\" class=\"dataframe\">\n",
       "  <thead>\n",
       "    <tr style=\"text-align: right;\">\n",
       "      <th></th>\n",
       "      <th>offer_id</th>\n",
       "      <th>age</th>\n",
       "      <th>gender</th>\n",
       "      <th>income</th>\n",
       "      <th>difficulty</th>\n",
       "      <th>offer_type</th>\n",
       "      <th>reward</th>\n",
       "    </tr>\n",
       "  </thead>\n",
       "  <tbody>\n",
       "    <tr>\n",
       "      <th>0</th>\n",
       "      <td>0.0</td>\n",
       "      <td>75</td>\n",
       "      <td>2</td>\n",
       "      <td>100000.0</td>\n",
       "      <td>5.0</td>\n",
       "      <td>0.0</td>\n",
       "      <td>5.0</td>\n",
       "    </tr>\n",
       "    <tr>\n",
       "      <th>1</th>\n",
       "      <td>0.0</td>\n",
       "      <td>75</td>\n",
       "      <td>2</td>\n",
       "      <td>100000.0</td>\n",
       "      <td>5.0</td>\n",
       "      <td>0.0</td>\n",
       "      <td>5.0</td>\n",
       "    </tr>\n",
       "    <tr>\n",
       "      <th>2</th>\n",
       "      <td>NaN</td>\n",
       "      <td>75</td>\n",
       "      <td>2</td>\n",
       "      <td>100000.0</td>\n",
       "      <td>NaN</td>\n",
       "      <td>NaN</td>\n",
       "      <td>NaN</td>\n",
       "    </tr>\n",
       "    <tr>\n",
       "      <th>3</th>\n",
       "      <td>0.0</td>\n",
       "      <td>75</td>\n",
       "      <td>2</td>\n",
       "      <td>100000.0</td>\n",
       "      <td>5.0</td>\n",
       "      <td>0.0</td>\n",
       "      <td>5.0</td>\n",
       "    </tr>\n",
       "    <tr>\n",
       "      <th>4</th>\n",
       "      <td>NaN</td>\n",
       "      <td>75</td>\n",
       "      <td>2</td>\n",
       "      <td>100000.0</td>\n",
       "      <td>NaN</td>\n",
       "      <td>NaN</td>\n",
       "      <td>NaN</td>\n",
       "    </tr>\n",
       "  </tbody>\n",
       "</table>\n",
       "</div>"
      ],
      "text/plain": [
       "   offer_id  age  gender    income  difficulty  offer_type  reward\n",
       "0       0.0   75       2  100000.0         5.0         0.0     5.0\n",
       "1       0.0   75       2  100000.0         5.0         0.0     5.0\n",
       "2       NaN   75       2  100000.0         NaN         NaN     NaN\n",
       "3       0.0   75       2  100000.0         5.0         0.0     5.0\n",
       "4       NaN   75       2  100000.0         NaN         NaN     NaN"
      ]
     },
     "execution_count": 104,
     "metadata": {},
     "output_type": "execute_result"
    }
   ],
   "source": [
    "X.head()"
   ]
  },
  {
   "cell_type": "code",
   "execution_count": 105,
   "metadata": {},
   "outputs": [
    {
     "data": {
      "text/plain": [
       "((272762, 7), (272762,))"
      ]
     },
     "execution_count": 105,
     "metadata": {},
     "output_type": "execute_result"
    }
   ],
   "source": [
    "X.shape , Y.shape"
   ]
  },
  {
   "cell_type": "code",
   "execution_count": 106,
   "metadata": {},
   "outputs": [],
   "source": [
    "X_train, X_test, y_train, y_test = train_test_split(X, Y, test_size=0.3, random_state=42)"
   ]
  },
  {
   "cell_type": "code",
   "execution_count": 107,
   "metadata": {},
   "outputs": [
    {
     "data": {
      "text/plain": [
       "((190933, 7), (81829, 7), (190933,), (81829,))"
      ]
     },
     "execution_count": 107,
     "metadata": {},
     "output_type": "execute_result"
    }
   ],
   "source": [
    "X_train.shape, X_test.shape, y_train.shape, y_test.shape"
   ]
  },
  {
   "cell_type": "code",
   "execution_count": 108,
   "metadata": {},
   "outputs": [
    {
     "name": "stderr",
     "output_type": "stream",
     "text": [
      "/opt/conda/lib/python3.6/site-packages/pandas/core/generic.py:4405: SettingWithCopyWarning: \n",
      "A value is trying to be set on a copy of a slice from a DataFrame.\n",
      "Try using .loc[row_indexer,col_indexer] = value instead\n",
      "\n",
      "See the caveats in the documentation: http://pandas.pydata.org/pandas-docs/stable/indexing.html#indexing-view-versus-copy\n",
      "  self[name] = value\n",
      "/opt/conda/lib/python3.6/site-packages/sklearn/utils/validation.py:475: DataConversionWarning: Data with input dtype int64 was converted to float64 by StandardScaler.\n",
      "  warnings.warn(msg, DataConversionWarning)\n"
     ]
    }
   ],
   "source": [
    "X_train.income = std.fit_transform(X_train.income.values.reshape(-1, 1))\n",
    "X_train.age = std.fit_transform(X_train.age.values.reshape(-1, 1))\n",
    "\n",
    "X_train.reset_index(inplace=True)\n",
    "X_train = X_train.drop(['index'], axis=1)"
   ]
  },
  {
   "cell_type": "code",
   "execution_count": 109,
   "metadata": {},
   "outputs": [
    {
     "name": "stderr",
     "output_type": "stream",
     "text": [
      "/opt/conda/lib/python3.6/site-packages/pandas/core/generic.py:4405: SettingWithCopyWarning: \n",
      "A value is trying to be set on a copy of a slice from a DataFrame.\n",
      "Try using .loc[row_indexer,col_indexer] = value instead\n",
      "\n",
      "See the caveats in the documentation: http://pandas.pydata.org/pandas-docs/stable/indexing.html#indexing-view-versus-copy\n",
      "  self[name] = value\n",
      "/opt/conda/lib/python3.6/site-packages/sklearn/utils/validation.py:475: DataConversionWarning: Data with input dtype int64 was converted to float64 by StandardScaler.\n",
      "  warnings.warn(msg, DataConversionWarning)\n"
     ]
    }
   ],
   "source": [
    "X_test.income = std.transform(X_test.income.values.reshape(-1, 1))\n",
    "X_test.age = std.fit_transform(X_test.age.values.reshape(-1, 1))\n",
    "\n",
    "X_test.reset_index(inplace=True)\n",
    "X_test = X_test.drop(['index'], axis=1)"
   ]
  },
  {
   "cell_type": "code",
   "execution_count": 110,
   "metadata": {},
   "outputs": [],
   "source": [
    "# Convert the pandas dataframe into numpy array\n",
    "\n",
    "X_train = X_train.values\n",
    "X_test = X_test.values\n",
    "y_train = y_train.values\n",
    "y_test = y_test.values"
   ]
  },
  {
   "cell_type": "code",
   "execution_count": 111,
   "metadata": {},
   "outputs": [],
   "source": [
    "ann = keras.models.Sequential()"
   ]
  },
  {
   "cell_type": "code",
   "execution_count": 112,
   "metadata": {},
   "outputs": [],
   "source": [
    "ann.add(keras.layers.Dense(32, input_dim=7, kernel_initializer = 'normal' ,activation='relu'))\n",
    "ann.add(keras.layers.Dense(15, kernel_initializer = 'normal' ,activation='relu'))\n",
    "ann.add(keras.layers.Dense(10, kernel_initializer = 'normal' ,activation='relu'))\n",
    "ann.add(keras.layers.Dense(6, kernel_initializer = 'normal' ,activation='relu'))\n",
    "ann.add(keras.layers.Dense(4, kernel_initializer = 'normal' ,activation = 'softmax'))"
   ]
  },
  {
   "cell_type": "code",
   "execution_count": 113,
   "metadata": {},
   "outputs": [],
   "source": [
    "ann.compile(optimizer = 'adam', \n",
    "            loss = 'sparse_categorical_crossentropy', \n",
    "            metrics = ['accuracy'])"
   ]
  },
  {
   "cell_type": "code",
   "execution_count": 114,
   "metadata": {},
   "outputs": [
    {
     "name": "stdout",
     "output_type": "stream",
     "text": [
      "Train on 190933 samples, validate on 81829 samples\n",
      "Epoch 1/15\n",
      "3s - loss: nan - acc: 0.2433 - val_loss: nan - val_acc: 0.2448\n",
      "Epoch 2/15\n",
      "3s - loss: nan - acc: 0.2434 - val_loss: nan - val_acc: 0.2448\n",
      "Epoch 3/15\n",
      "3s - loss: nan - acc: 0.2434 - val_loss: nan - val_acc: 0.2448\n",
      "Epoch 4/15\n",
      "3s - loss: nan - acc: 0.2434 - val_loss: nan - val_acc: 0.2448\n",
      "Epoch 5/15\n",
      "3s - loss: nan - acc: 0.2434 - val_loss: nan - val_acc: 0.2448\n",
      "Epoch 6/15\n",
      "3s - loss: nan - acc: 0.2434 - val_loss: nan - val_acc: 0.2448\n",
      "Epoch 7/15\n",
      "3s - loss: nan - acc: 0.2434 - val_loss: nan - val_acc: 0.2448\n",
      "Epoch 8/15\n",
      "3s - loss: nan - acc: 0.2434 - val_loss: nan - val_acc: 0.2448\n",
      "Epoch 9/15\n",
      "3s - loss: nan - acc: 0.2434 - val_loss: nan - val_acc: 0.2448\n",
      "Epoch 10/15\n",
      "3s - loss: nan - acc: 0.2434 - val_loss: nan - val_acc: 0.2448\n",
      "Epoch 11/15\n",
      "3s - loss: nan - acc: 0.2434 - val_loss: nan - val_acc: 0.2448\n",
      "Epoch 12/15\n",
      "3s - loss: nan - acc: 0.2434 - val_loss: nan - val_acc: 0.2448\n",
      "Epoch 13/15\n",
      "3s - loss: nan - acc: 0.2434 - val_loss: nan - val_acc: 0.2448\n",
      "Epoch 14/15\n",
      "3s - loss: nan - acc: 0.2434 - val_loss: nan - val_acc: 0.2448\n",
      "Epoch 15/15\n",
      "3s - loss: nan - acc: 0.2434 - val_loss: nan - val_acc: 0.2448\n"
     ]
    }
   ],
   "source": [
    "ann_history = ann.fit(X_train, y_train, validation_data=(X_test, y_test), epochs=15, batch_size=100 , verbose = 2)"
   ]
  },
  {
   "cell_type": "code",
   "execution_count": 115,
   "metadata": {},
   "outputs": [
    {
     "name": "stdout",
     "output_type": "stream",
     "text": [
      "_________________________________________________________________\n",
      "Layer (type)                 Output Shape              Param #   \n",
      "=================================================================\n",
      "dense_5 (Dense)              (None, 32)                256       \n",
      "_________________________________________________________________\n",
      "dense_6 (Dense)              (None, 15)                495       \n",
      "_________________________________________________________________\n",
      "dense_7 (Dense)              (None, 10)                160       \n",
      "_________________________________________________________________\n",
      "dense_8 (Dense)              (None, 6)                 66        \n",
      "_________________________________________________________________\n",
      "dense_9 (Dense)              (None, 4)                 28        \n",
      "=================================================================\n",
      "Total params: 1,005\n",
      "Trainable params: 1,005\n",
      "Non-trainable params: 0\n",
      "_________________________________________________________________\n"
     ]
    }
   ],
   "source": [
    "ann.summary()"
   ]
  },
  {
   "cell_type": "code",
   "execution_count": 117,
   "metadata": {},
   "outputs": [
    {
     "data": {
      "text/plain": [
       "{'batch_size': 100,\n",
       " 'epochs': 15,\n",
       " 'samples': 190933,\n",
       " 'verbose': 2,\n",
       " 'do_validation': True,\n",
       " 'metrics': ['loss', 'acc', 'val_loss', 'val_acc']}"
      ]
     },
     "execution_count": 117,
     "metadata": {},
     "output_type": "execute_result"
    }
   ],
   "source": [
    "ann_history.params"
   ]
  },
  {
   "cell_type": "code",
   "execution_count": 119,
   "metadata": {},
   "outputs": [
    {
     "data": {
      "image/png": "[encoded data removed]",
      "text/plain": [
       "<matplotlib.figure.Figure at 0x7fd6abe64e48>"
      ]
     },
     "metadata": {
      "needs_background": "light"
     },
     "output_type": "display_data"
    }
   ],
   "source": [
    "pd.DataFrame(ann_history.history).plot(figsize=(8,5))\n",
    "plt.grid(True)\n",
    "plt.gca().set_ylim(0,1)               # Y AXIS RANGE LIMIT \n",
    "plt.show()"
   ]
  },
  {
   "cell_type": "code",
   "execution_count": 120,
   "metadata": {},
   "outputs": [
    {
     "name": "stdout",
     "output_type": "stream",
     "text": [
      "79648/81829 [============================>.] - ETA: 0s"
     ]
    },
    {
     "data": {
      "text/plain": [
       "[nan, 0.2448154077419889]"
      ]
     },
     "execution_count": 120,
     "metadata": {},
     "output_type": "execute_result"
    }
   ],
   "source": [
    "ann.evaluate(X_test , y_test)"
   ]
  },
  {
   "cell_type": "code",
   "execution_count": 121,
   "metadata": {},
   "outputs": [],
   "source": [
    "# TO PERFORM OF CHECK THE RESULT IN NEW DATA SET\n",
    "# AS WE DON'T HAVE NEW DATA SET , CREATE ONE FROM TEST DATA SET\n",
    "# HOW TO PREDICT THE PROBABILITY and CLASSES IN UNSEEN DATA\n",
    "\n",
    "\n",
    "x_new = X_test[:3]"
   ]
  },
  {
   "cell_type": "code",
   "execution_count": 122,
   "metadata": {},
   "outputs": [
    {
     "data": {
      "text/plain": [
       "array([[ nan,  nan,  nan,  nan],\n",
       "       [ nan,  nan,  nan,  nan],\n",
       "       [ nan,  nan,  nan,  nan]], dtype=float32)"
      ]
     },
     "execution_count": 122,
     "metadata": {},
     "output_type": "execute_result"
    }
   ],
   "source": [
    "# PROBABILITY OF EACH SET\n",
    "\n",
    "y_prob = ann.predict(x_new)\n",
    "y_prob.round(2)                        # RESULT IN 2 DECIMAL PLACE"
   ]
  },
  {
   "cell_type": "code",
   "execution_count": 123,
   "metadata": {},
   "outputs": [
    {
     "name": "stdout",
     "output_type": "stream",
     "text": [
      "3/3 [==============================] - 0s\n"
     ]
    },
    {
     "data": {
      "text/plain": [
       "array([0, 0, 0])"
      ]
     },
     "execution_count": 123,
     "metadata": {},
     "output_type": "execute_result"
    }
   ],
   "source": [
    "# CLASS OF EACH SET \n",
    "\n",
    "y_pred = ann.predict_classes(x_new)\n",
    "y_pred"
   ]
  },
  {
   "cell_type": "code",
   "execution_count": 124,
   "metadata": {},
   "outputs": [
    {
     "data": {
      "text/plain": [
       "array(['offer recieved', 'offer recieved', 'offer recieved'], \n",
       "      dtype='<U15')"
      ]
     },
     "execution_count": 124,
     "metadata": {},
     "output_type": "execute_result"
    }
   ],
   "source": [
    "np.array(class_name)[y_pred]"
   ]
  },
  {
   "cell_type": "code",
   "execution_count": null,
   "metadata": {},
   "outputs": [],
   "source": []
  }
 ],
 "metadata": {
  "kernelspec": {
   "display_name": "Python 3",
   "language": "python",
   "name": "python3"
  },
  "language_info": {
   "codemirror_mode": {
    "name": "ipython",
    "version": 3
   },
   "file_extension": ".py",
   "mimetype": "text/x-python",
   "name": "python",
   "nbconvert_exporter": "python",
   "pygments_lexer": "ipython3",
   "version": "3.6.3"
  }
 },
 "nbformat": 4,
 "nbformat_minor": 2
}
